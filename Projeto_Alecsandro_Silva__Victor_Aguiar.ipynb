{
  "nbformat": 4,
  "nbformat_minor": 0,
  "metadata": {
    "colab": {
      "name": "Projeto - Alecsandro Silva | Victor Aguiar.ipynb",
      "version": "0.3.2",
      "provenance": [],
      "collapsed_sections": []
    },
    "kernelspec": {
      "name": "python3",
      "display_name": "Python 3"
    }
  },
  "cells": [
    {
      "metadata": {
        "id": "7jp_x88onbnd",
        "colab_type": "code",
        "colab": {}
      },
      "cell_type": "code",
      "source": [
        "import pandas as pd\n",
        "import re\n",
        "phones = pd.read_csv(\"https://raw.githubusercontent.com/Alecsandros/Smartphones/dataset/phone_dataset.csv\")"
      ],
      "execution_count": 0,
      "outputs": []
    },
    {
      "metadata": {
        "id": "19PUlQ78F0fd",
        "colab_type": "code",
        "colab": {}
      },
      "cell_type": "code",
      "source": [
        "### DELETANDO COLUNAS NÃO DESEJADAS E RENOMEANDO\n",
        "\n",
        "#Desnecessários\n",
        "phones = phones.drop(\"2G_bands\", axis=1) \n",
        "phones = phones.drop(\"status\", axis=1)\n",
        "phones = phones.drop(\"weight_oz\", axis=1)\n",
        "phones = phones.drop(\"colors\", axis=1)\n",
        "phones = phones.drop(\"radio\", axis=1)\n",
        "phones = phones.drop(\"SIM\", axis=1)\n",
        "\n",
        "#Faltantes\n",
        "phones = phones.drop(\"network_speed\", axis=1) \n",
        "phones = phones.drop(\"GPU\", axis=1)\n",
        "phones = phones.drop(\"NFC\", axis=1)\n",
        "phones = phones.drop(\"USB\", axis=1)\n",
        "\n",
        "#Outros\n",
        "phones = phones.drop(\"RAM\", axis=1)\n",
        "\n",
        "phones = phones.rename(columns={'4G_bands': '4G', '3G_bands': '3G', 'network_technology': 'network', 'weight_g': 'weight', 'loud_speaker': 'speaker', 'WLAN': 'WIFI'})"
      ],
      "execution_count": 0,
      "outputs": []
    },
    {
      "metadata": {
        "id": "jv4_VcjAHVJr",
        "colab_type": "code",
        "colab": {}
      },
      "cell_type": "code",
      "source": [
        "##3 RESOLUTION E PPI\n",
        "\n",
        "#Separando display size em resolution e ppi:\n",
        "#Transforma display_size em string e divide ele por uma expressão\n",
        "phones['display_size'] = phones['display_size'].astype('str')\n",
        "displayInfo = phones[\"display_size\"].str.split(\"\\(~\", n = 1, expand = True) \n",
        "\n",
        "#Agora atribui cada um a sua coluna\n",
        "phones['display_size'] = displayInfo[0]\n",
        "phones['ppi'] = displayInfo[1]\n",
        "\n",
        "#Tratando missing values\n",
        "phones['display_size'] = phones['display_size'].apply(lambda x: 'missing' if 'nan' in str(x) else x)\n",
        "\n",
        "#Renomeando display_size para resolution\n",
        "phones['display_size'] = phones['display_size'].astype('category')\n",
        "phones = phones.rename(columns={'display_size': 'resolution'})\n",
        "\n",
        "#Convertendo ppi para float\n",
        "phones['ppi'] = phones['ppi'].str.extract(r'([0-9]*)') \n",
        "phones['ppi'] = pd.to_numeric(phones['ppi'], errors='coerce')\n",
        "phones['ppi'] = phones['ppi'].astype('float64')"
      ],
      "execution_count": 0,
      "outputs": []
    },
    {
      "metadata": {
        "id": "8IAK6bCcT-Az",
        "colab_type": "code",
        "colab": {}
      },
      "cell_type": "code",
      "source": [
        "### 4G, 3G E NETWORK\n",
        "\n",
        "#Regex da bibioteca re importada no início\n",
        "regexp = re.compile('[A-Z]')\n",
        "\n",
        "#Transformando colunas em booleanas\n",
        "phones['4G'] = phones['4G'].apply(lambda x: True if 'LTE' in str(x) else False)\n",
        "phones['3G'] = phones['3G'].apply(lambda x: True if regexp.search(str(x)) else False)\n",
        "phones['network'] = phones['network'].apply(lambda x: False if 'No cellular connectivity' in str(x) else True)"
      ],
      "execution_count": 0,
      "outputs": []
    },
    {
      "metadata": {
        "id": "PkFL9g-8qCm3",
        "colab_type": "code",
        "colab": {}
      },
      "cell_type": "code",
      "source": [
        "### ANNOUNCED\n",
        "\n",
        "phones['announced'] = phones['announced'].str.extract(r'([1-3][0-9]{3})')\n",
        "phones['announced'] = phones['announced'].apply(lambda x: 'missing' if 'nan' in str(x) else x)\n",
        "phones['announced'] = phones['announced'].astype('category')"
      ],
      "execution_count": 0,
      "outputs": []
    },
    {
      "metadata": {
        "id": "3ohUJt7aKMXg",
        "colab_type": "code",
        "colab": {}
      },
      "cell_type": "code",
      "source": [
        "### GPRS\n",
        "\n",
        "phones['GPRS'] = phones['GPRS'].apply(lambda x: False if 'No' in str(x) else ('missing' if 'nan' in str(x) else True))"
      ],
      "execution_count": 0,
      "outputs": []
    },
    {
      "metadata": {
        "id": "Mfl24eSzK6l2",
        "colab_type": "code",
        "colab": {}
      },
      "cell_type": "code",
      "source": [
        "### EDGE\n",
        "\n",
        "phones['EDGE'] = phones['EDGE'].apply(lambda x: False if 'No' in str(x) else ('missing' if 'nan' in str(x) else True))"
      ],
      "execution_count": 0,
      "outputs": []
    },
    {
      "metadata": {
        "id": "3Pel09ILMMh0",
        "colab_type": "code",
        "colab": {}
      },
      "cell_type": "code",
      "source": [
        "### DIMENTIONS (depth)\n",
        "\n",
        "phones['dimentions'] = phones['dimentions'].astype('str')\n",
        "\n",
        "#Extrai depth a partir de dimentions\n",
        "phones['depth'] = phones['dimentions'].str.extract(r'([0-9]*[.]*[0-9]* mm)') \n",
        "\n",
        "#Restringe apenas para número\n",
        "phones[\"depth\"] = phones[\"depth\"].str.extract(r'([0-9]*[.]*[0-9]*)')\n",
        "phones[\"depth\"] = pd.to_numeric(phones[\"depth\"], errors='coerce')\n",
        "\n",
        "#Converte a coluna para float\n",
        "phones['depth'] = phones['depth'].astype('float64')"
      ],
      "execution_count": 0,
      "outputs": []
    },
    {
      "metadata": {
        "id": "ffGj-QPdUoLJ",
        "colab_type": "code",
        "colab": {}
      },
      "cell_type": "code",
      "source": [
        "### DIMENTIONS (width, height)\n",
        "\n",
        "phones['dimentions'] = phones['dimentions'].astype('str')\n",
        "\n",
        "#dimentions agora contém a substring responsável por width e height\n",
        "phones['dimentions'] =  phones['dimentions'].str.extract(r'([0-9]*[.]*[0-9]* x *[0-9]*[.]*[0-9]*)') \n",
        "  \n",
        "#divide as dimensões em 2\n",
        "width_height = phones['dimentions'].str.split(\"x\", n = 1, expand = True) \n",
        "\n",
        "#Atribui as dimensões para cada coluna\n",
        "phones['width'] = width_height[0]\n",
        "phones['height'] = width_height[1]\n",
        "\n",
        "#Converte as colunas para float\n",
        "phones[\"width\"] = pd.to_numeric(phones[\"width\"], errors='coerce')\n",
        "phones[\"height\"] = pd.to_numeric(phones[\"height\"], errors='coerce')\n",
        "phones['width'] = phones['width'].astype('float64')\n",
        "phones['height'] = phones['height'].astype('float64')\n",
        "\n",
        "phones = phones.drop(\"dimentions\", axis=1)"
      ],
      "execution_count": 0,
      "outputs": []
    },
    {
      "metadata": {
        "id": "rFTzlNQ3-v4R",
        "colab_type": "code",
        "colab": {}
      },
      "cell_type": "code",
      "source": [
        "### WEIGHT\n",
        "\n",
        "phones[\"weight\"] = pd.to_numeric(phones[\"weight\"], errors='coerce')\n",
        "phones['weight'] = phones['weight'].astype('float64') "
      ],
      "execution_count": 0,
      "outputs": []
    },
    {
      "metadata": {
        "id": "eumK_KMRJ2k3",
        "colab_type": "code",
        "colab": {}
      },
      "cell_type": "code",
      "source": [
        "### BODY_RATIO\n",
        "\n",
        "#phones['body_ratio'] agora contém a substring de display_resolution responsável pelo screen to body ratio\n",
        "phones['body_ratio'] = phones['display_resolution'].str.extract(r'(~[0-9]*[.]*[0-9]*)') \n",
        "phones['body_ratio'] = phones[\"body_ratio\"].str.replace('~', '')\n",
        "\n",
        "#Converte a coluna para float\n",
        "phones['body_ratio'] = phones['body_ratio'].astype('float64')"
      ],
      "execution_count": 0,
      "outputs": []
    },
    {
      "metadata": {
        "id": "VYEEH_JbqQUo",
        "colab_type": "code",
        "colab": {}
      },
      "cell_type": "code",
      "source": [
        "### DISPLAY TYPE\n",
        "\n",
        "## Pegando as cores do display pelo regex\n",
        "phones['display_colors'] = phones['display_type'].str.extract(r'([0-9][0-9]*[M|K][ ]*colors)') \n",
        "\n",
        "#Pegando o tipo do display pelo regex\n",
        "phones['display_type'] = phones['display_type'].str.extract(r'([A-Z][A-Z][A-Z]*[ ][A-Z]*[ ]*[A-Z]*)') "
      ],
      "execution_count": 0,
      "outputs": []
    },
    {
      "metadata": {
        "id": "sfOFfHjE48Oa",
        "colab_type": "code",
        "colab": {}
      },
      "cell_type": "code",
      "source": [
        "### DISPLAY SIZE (ex resolution)\n",
        "\n",
        "phones['display_resolution'] =   phones['display_resolution'].str.extract(r'([0-9]*[.]*[0-9]* inches)') \n",
        "phones['display_resolution'] = phones[\"display_resolution\"].str.replace('inches', '')\n",
        "\n",
        "#Converte a coluna para float\n",
        "phones['display_resolution'] = phones['display_resolution'].astype('float64')\n",
        "\n",
        "#Corrigindo os nomes errados\n",
        "phones = phones.rename(columns={'display_resolution': 'display_size', 'resolution': 'display_resolution'}) "
      ],
      "execution_count": 0,
      "outputs": []
    },
    {
      "metadata": {
        "id": "sBgVtJqGA29h",
        "colab_type": "code",
        "colab": {}
      },
      "cell_type": "code",
      "source": [
        "### OS (NAME E VERSION)\n",
        "\n",
        "phones['OS_version'] = phones['OS'].str.extract(r'(([0-9][.]*)+)')[0] \n",
        "phones['OS'] = phones['OS'].str.extract(r'(([A-z]*[ ]*)+)')[0] \n",
        "\n",
        "phones = phones.rename(columns={'OS': 'OS_name'})\n",
        "\n",
        "#Tratando missing values\n",
        "phones['OS_version'] = phones['OS_version'].apply(lambda x: 'missing' if 'nan' in str(x) else x)\n",
        "phones['OS_name'] = phones['OS_name'].apply(lambda x: 'missing' if 'nan' in str(x) else x)\n",
        "\n",
        "phones['OS_version'] = phones['OS_version'].astype('category') #Ver coisas de 1 != 1.0 etc\n",
        "phones['OS_name'] = phones['OS_name'].astype('category')  #Ver coisas de android != android etc"
      ],
      "execution_count": 0,
      "outputs": []
    },
    {
      "metadata": {
        "id": "qQGAbIXhNCru",
        "colab_type": "code",
        "colab": {}
      },
      "cell_type": "code",
      "source": [
        "### CHIPSET\n",
        "\n",
        "phones['Chipset'] = phones['Chipset'].apply(lambda x: 'missing' if 'nan' in str(x) else x)"
      ],
      "execution_count": 0,
      "outputs": []
    },
    {
      "metadata": {
        "id": "fNEx_NWoYQEw",
        "colab_type": "code",
        "colab": {}
      },
      "cell_type": "code",
      "source": [
        "### SD \n",
        "\n",
        "#Agora é bool\n",
        "phones['memory_card'] = phones['memory_card'].apply(lambda x: False if 'No' in str(x) else True)"
      ],
      "execution_count": 0,
      "outputs": []
    },
    {
      "metadata": {
        "id": "u-EyKM2jqmZZ",
        "colab_type": "code",
        "colab": {}
      },
      "cell_type": "code",
      "source": [
        "### INTERNAL MEMORY\n",
        "\n",
        "phones['internal_memory'] = phones[\"internal_memory\"].str.replace( \"((\\()[ -~]*)\" , \"\", regex=True)\n",
        "\n",
        "#IM_MB = Internal Memory in MB - Todos os dados que tem MB no regex estão como True nessa coluna, caso ele não tenha MB ele vai ficar falso.\n",
        "regexp = re.compile('([0-9]+[ -~]*(MB|KB))')\n",
        "phones['IM_LT_1GB'] = phones['internal_memory'].apply(lambda x: True if regexp.search(str(x)) else False)\n",
        "\n",
        "#Tirando tudo que não tem GB de internal memory\n",
        "phones['internal_memory'] = phones[\"internal_memory\"].str.replace( \"([0-9]+[ -~]*(MB))\" , \"\", regex=True)\n",
        "phones['internal_memory'] = phones['internal_memory'].str.extract(r'([ -~]*(GB)[ -~]*)') \n",
        "\n",
        "#Coluna para todos os phones acima de 120GB\n",
        "regexp = re.compile('([1-9][0-9][0-9])')\n",
        "phones['IM_MT_120GB'] = phones['internal_memory'].apply(lambda x: True if regexp.search(str(x)) else False)\n",
        "\n",
        "#Removendo todos os valores acima de 100gb\n",
        "phones['internal_memory'] = phones[\"internal_memory\"].str.replace( \"([0-9][0-9][0-9])\" , \"\", regex=True)\n",
        "\n",
        "#Coluna para todos os phones com 64GB de memória interna\n",
        "regexp = re.compile('(64)')\n",
        "phones['IM_64GB'] = phones['internal_memory'].apply(lambda x: True if regexp.search(str(x)) else False)\n",
        "\n",
        "#Removendo todos os valores de 64GB de memória interna\n",
        "phones['internal_memory'] = phones[\"internal_memory\"].str.replace( \"64\" , \"\", regex=True)\n",
        "\n",
        "#Coluna para todos os phones com 32GB de memória interna\n",
        "regexp = re.compile('(32)')\n",
        "phones['IM_32GB'] = phones['internal_memory'].apply(lambda x: True if regexp.search(str(x)) else False)\n",
        "\n",
        "#Removendo todos os valores de 32GB de memória interna\n",
        "phones['internal_memory'] = phones[\"internal_memory\"].str.replace( \"32\" , \"\", regex=True)\n",
        "\n",
        "#Coluna para todos os phones com 16GB de memória interna\n",
        "regexp = re.compile('(16)')\n",
        "phones['IM_16GB'] = phones['internal_memory'].apply(lambda x: True if regexp.search(str(x)) else False)\n",
        "\n",
        "#Removendo todos os valores de 16GB de memória interna\n",
        "phones['internal_memory'] = phones[\"internal_memory\"].str.replace( \"16\" , \"\", regex=True)\n",
        "\n",
        "#Coluna para todos os phones entre 1GB e 15GB de memória interna\n",
        "regexp = re.compile('([0-1]*[0-9])')\n",
        "phones['IM_1GB_15GB'] = phones['internal_memory'].apply(lambda x: True if regexp.search(str(x)) else False)\n",
        "\n",
        "phones = phones.drop(\"internal_memory\", axis=1)"
      ],
      "execution_count": 0,
      "outputs": []
    },
    {
      "metadata": {
        "id": "HR8pDByXq93Q",
        "colab_type": "code",
        "colab": {}
      },
      "cell_type": "code",
      "source": [
        "### RAM \n",
        "\n",
        "#RAM_MB = RAM in MB - Todos os dados que tem MB no regex estão como True nessa coluna, caso ele não tenha MB ele vai ficar falso.\n",
        "#regexp = re.compile('([0-9]+[ -~]*(MB|KB))')\n",
        "#phones['IM_LT_1GB'] = phones['internal_memory'].apply(lambda x: True if regexp.search(str(x)) else False)\n"
      ],
      "execution_count": 0,
      "outputs": []
    },
    {
      "metadata": {
        "id": "ogg50W1PsAPV",
        "colab_type": "code",
        "colab": {}
      },
      "cell_type": "code",
      "source": [
        "### PRIMARY & SECONDARY CAMERA\n",
        "\n",
        "phones['primary_camera'] = phones['primary_camera'].apply(lambda x: 0.3 if 'VGA' in str(x) else x)\n",
        "phones['primary_camera'] = phones['primary_camera'].str.extract(r'([0-9]+(.)?[0-9]*)')\n",
        "phones['primary_camera'] = phones['primary_camera'].apply(lambda x: 'missing' if 'nan' in str(x) else x)\n",
        "phones['primary_camera'] = phones['primary_camera'].astype('category')\n",
        "\n",
        "\n",
        "phones['secondary_camera'] = phones['secondary_camera'].apply(lambda x: 0.3 if 'VGA' in str(x) else x)\n",
        "phones['secondary_camera'] = phones['secondary_camera'].str.extract(r'([0-9]+(.)?[0-9]*)')\n",
        "phones['secondary_camera'] = phones['secondary_camera'].apply(lambda x: 'missing' if 'nan' in str(x) else x)\n",
        "phones['secondary_camera'] = phones['secondary_camera'].astype('category')"
      ],
      "execution_count": 0,
      "outputs": []
    },
    {
      "metadata": {
        "id": "grk3XNBFrOg1",
        "colab_type": "code",
        "colab": {}
      },
      "cell_type": "code",
      "source": [
        "### SPEAKER \n",
        "\n",
        "regexp = re.compile('(([S|s]tereo)|(dual))')\n",
        "phones['stereo_speaker'] = phones['speaker'].apply(lambda x: True if regexp.search(str(x)) else False)\n",
        "\n",
        "phones['speaker'] = phones['speaker'].apply(lambda x: True if 'Yes' in str(x) else False)"
      ],
      "execution_count": 0,
      "outputs": []
    },
    {
      "metadata": {
        "id": "s4cvx7wBvTUG",
        "colab_type": "code",
        "colab": {}
      },
      "cell_type": "code",
      "source": [
        "### AUDIO JACK\n",
        "\n",
        "phones['audio_jack'] = phones['audio_jack'].apply(lambda x: True if 'Yes' in str(x) else ('missing' if 'nan' in str(x) else False))"
      ],
      "execution_count": 0,
      "outputs": []
    },
    {
      "metadata": {
        "id": "AFbu_3NAvi4d",
        "colab_type": "code",
        "colab": {}
      },
      "cell_type": "code",
      "source": [
        "### WIFI\n",
        "\n",
        "regexp = re.compile('((No)|(no))')\n",
        "phones['WIFI'] = phones['WIFI'].apply(lambda x: False if regexp.search(str(x)) else ('missing' if 'nan' in str(x) else True))"
      ],
      "execution_count": 0,
      "outputs": []
    },
    {
      "metadata": {
        "id": "X2TelmYK2x3_",
        "colab_type": "code",
        "colab": {}
      },
      "cell_type": "code",
      "source": [
        "### BLUETOOTH\n",
        "\n",
        "phones['bluetooth'] = phones['bluetooth'].str.extract(r'(([Y|y]es)|([N|n]o)|([0-9].[0-9]))')\n",
        "\n",
        "phones['bluetooth'] = phones['bluetooth'].apply(lambda x: 'missing' if 'nan' in str(x) else x)\n",
        "\n",
        "phones['bluetooth'] = phones['bluetooth'].astype('category')"
      ],
      "execution_count": 0,
      "outputs": []
    },
    {
      "metadata": {
        "id": "DHM1S8Gi6iDu",
        "colab_type": "code",
        "colab": {}
      },
      "cell_type": "code",
      "source": [
        "### GPS\n",
        "\n",
        "phones['GPS'] = phones['GPS'].apply(lambda x: True if 'Yes' in str(x) else (True if 'GPS' in str(x) else ('missing' if 'nan' in str(x) else False)))"
      ],
      "execution_count": 0,
      "outputs": []
    },
    {
      "metadata": {
        "id": "F-BpGcXV7s5W",
        "colab_type": "code",
        "colab": {}
      },
      "cell_type": "code",
      "source": [
        "### BATTERY\n",
        "\n",
        "phones['battery'] = phones['battery'].str.extract(r'([0-9]+[ ]mAh)') \n",
        "phones['battery'] = phones['battery'].str.extract(r'([0-9]+)') \n",
        "\n",
        "phones['battery'] = pd.to_numeric(phones['battery'], errors='coerce')\n",
        "phones['battery'] = phones['battery'].astype('float64')"
      ],
      "execution_count": 0,
      "outputs": []
    },
    {
      "metadata": {
        "id": "sQ5LWw4aOfMb",
        "colab_type": "code",
        "colab": {}
      },
      "cell_type": "code",
      "source": [
        "### SENSORS\n",
        "\n",
        "#accelerometer\n",
        "regexp = re.compile('([A|a]ccelerometer)')\n",
        "phones['accelerometer'] = phones['sensors'].apply(lambda x: True if regexp.search(str(x)) else ('missing' if 'nan' in str(x) else False))\n",
        "\n",
        "#proximity\n",
        "regexp = re.compile('([p|P]roximity)')\n",
        "phones['proximity'] = phones['sensors'].apply(lambda x: True if regexp.search(str(x)) else ('missing' if 'nan' in str(x) else False))\n",
        "\n",
        "#compass\n",
        "regexp = re.compile('([c|C]ompass)')\n",
        "phones['compass'] = phones['sensors'].apply(lambda x: True if regexp.search(str(x)) else ('missing' if 'nan' in str(x) else False))\n",
        "\n",
        "#gyro\n",
        "regexp = re.compile('([g|G]yro)')\n",
        "phones['gyro'] = phones['sensors'].apply(lambda x: True if regexp.search(str(x)) else ('missing' if 'nan' in str(x) else False))\n",
        "\n",
        "#fingerprint\n",
        "regexp = re.compile('([f|F]ingerprint)')\n",
        "phones['fingerprint'] = phones['sensors'].apply(lambda x: True if regexp.search(str(x)) else ('missing' if 'nan' in str(x) else False))\n",
        "\n",
        "phones = phones.drop(\"sensors\", axis=1)"
      ],
      "execution_count": 0,
      "outputs": []
    },
    {
      "metadata": {
        "id": "ENNIsvqQ7S69",
        "colab_type": "code",
        "colab": {
          "base_uri": "https://localhost:8080/",
          "height": 406
        },
        "outputId": "5461370a-4934-4f5e-a85e-57efa7e7f730"
      },
      "cell_type": "code",
      "source": [
        "phones.head()"
      ],
      "execution_count": 29,
      "outputs": [
        {
          "output_type": "execute_result",
          "data": {
            "text/html": [
              "<div>\n",
              "<style scoped>\n",
              "    .dataframe tbody tr th:only-of-type {\n",
              "        vertical-align: middle;\n",
              "    }\n",
              "\n",
              "    .dataframe tbody tr th {\n",
              "        vertical-align: top;\n",
              "    }\n",
              "\n",
              "    .dataframe thead th {\n",
              "        text-align: right;\n",
              "    }\n",
              "</style>\n",
              "<table border=\"1\" class=\"dataframe\">\n",
              "  <thead>\n",
              "    <tr style=\"text-align: right;\">\n",
              "      <th></th>\n",
              "      <th>brand</th>\n",
              "      <th>model</th>\n",
              "      <th>network</th>\n",
              "      <th>3G</th>\n",
              "      <th>4G</th>\n",
              "      <th>GPRS</th>\n",
              "      <th>EDGE</th>\n",
              "      <th>announced</th>\n",
              "      <th>weight</th>\n",
              "      <th>display_type</th>\n",
              "      <th>...</th>\n",
              "      <th>IM_64GB</th>\n",
              "      <th>IM_32GB</th>\n",
              "      <th>IM_16GB</th>\n",
              "      <th>IM_1GB_15GB</th>\n",
              "      <th>stereo_speaker</th>\n",
              "      <th>accelerometer</th>\n",
              "      <th>proximity</th>\n",
              "      <th>compass</th>\n",
              "      <th>gyro</th>\n",
              "      <th>fingerprint</th>\n",
              "    </tr>\n",
              "  </thead>\n",
              "  <tbody>\n",
              "    <tr>\n",
              "      <th>0</th>\n",
              "      <td>Acer</td>\n",
              "      <td>Iconia Talk S</td>\n",
              "      <td>True</td>\n",
              "      <td>True</td>\n",
              "      <td>True</td>\n",
              "      <td>True</td>\n",
              "      <td>True</td>\n",
              "      <td>2016</td>\n",
              "      <td>260.0</td>\n",
              "      <td>IPS LCD</td>\n",
              "      <td>...</td>\n",
              "      <td>False</td>\n",
              "      <td>True</td>\n",
              "      <td>True</td>\n",
              "      <td>False</td>\n",
              "      <td>False</td>\n",
              "      <td>True</td>\n",
              "      <td>True</td>\n",
              "      <td>False</td>\n",
              "      <td>False</td>\n",
              "      <td>False</td>\n",
              "    </tr>\n",
              "    <tr>\n",
              "      <th>1</th>\n",
              "      <td>Acer</td>\n",
              "      <td>Liquid Z6 Plus</td>\n",
              "      <td>True</td>\n",
              "      <td>True</td>\n",
              "      <td>True</td>\n",
              "      <td>True</td>\n",
              "      <td>True</td>\n",
              "      <td>2016</td>\n",
              "      <td>169.0</td>\n",
              "      <td>IPS LCD</td>\n",
              "      <td>...</td>\n",
              "      <td>False</td>\n",
              "      <td>True</td>\n",
              "      <td>False</td>\n",
              "      <td>False</td>\n",
              "      <td>False</td>\n",
              "      <td>True</td>\n",
              "      <td>True</td>\n",
              "      <td>False</td>\n",
              "      <td>False</td>\n",
              "      <td>True</td>\n",
              "    </tr>\n",
              "    <tr>\n",
              "      <th>2</th>\n",
              "      <td>Acer</td>\n",
              "      <td>Liquid Z6</td>\n",
              "      <td>True</td>\n",
              "      <td>True</td>\n",
              "      <td>True</td>\n",
              "      <td>True</td>\n",
              "      <td>True</td>\n",
              "      <td>2016</td>\n",
              "      <td>NaN</td>\n",
              "      <td>IPS LCD</td>\n",
              "      <td>...</td>\n",
              "      <td>False</td>\n",
              "      <td>False</td>\n",
              "      <td>False</td>\n",
              "      <td>True</td>\n",
              "      <td>False</td>\n",
              "      <td>True</td>\n",
              "      <td>True</td>\n",
              "      <td>False</td>\n",
              "      <td>False</td>\n",
              "      <td>False</td>\n",
              "    </tr>\n",
              "    <tr>\n",
              "      <th>3</th>\n",
              "      <td>Acer</td>\n",
              "      <td>Iconia Tab 10 A3-A40</td>\n",
              "      <td>False</td>\n",
              "      <td>False</td>\n",
              "      <td>False</td>\n",
              "      <td>False</td>\n",
              "      <td>False</td>\n",
              "      <td>2016</td>\n",
              "      <td>NaN</td>\n",
              "      <td>IPS LCD</td>\n",
              "      <td>...</td>\n",
              "      <td>True</td>\n",
              "      <td>True</td>\n",
              "      <td>True</td>\n",
              "      <td>False</td>\n",
              "      <td>True</td>\n",
              "      <td>True</td>\n",
              "      <td>False</td>\n",
              "      <td>False</td>\n",
              "      <td>False</td>\n",
              "      <td>False</td>\n",
              "    </tr>\n",
              "    <tr>\n",
              "      <th>4</th>\n",
              "      <td>Acer</td>\n",
              "      <td>Liquid X2</td>\n",
              "      <td>True</td>\n",
              "      <td>True</td>\n",
              "      <td>True</td>\n",
              "      <td>True</td>\n",
              "      <td>True</td>\n",
              "      <td>2015</td>\n",
              "      <td>166.0</td>\n",
              "      <td>IPS LCD</td>\n",
              "      <td>...</td>\n",
              "      <td>False</td>\n",
              "      <td>True</td>\n",
              "      <td>False</td>\n",
              "      <td>False</td>\n",
              "      <td>False</td>\n",
              "      <td>True</td>\n",
              "      <td>True</td>\n",
              "      <td>True</td>\n",
              "      <td>False</td>\n",
              "      <td>False</td>\n",
              "    </tr>\n",
              "  </tbody>\n",
              "</table>\n",
              "<p>5 rows × 46 columns</p>\n",
              "</div>"
            ],
            "text/plain": [
              "  brand                 model  network     3G     4G   GPRS   EDGE announced  \\\n",
              "0  Acer         Iconia Talk S     True   True   True   True   True      2016   \n",
              "1  Acer        Liquid Z6 Plus     True   True   True   True   True      2016   \n",
              "2  Acer             Liquid Z6     True   True   True   True   True      2016   \n",
              "3  Acer  Iconia Tab 10 A3-A40    False  False  False  False  False      2016   \n",
              "4  Acer             Liquid X2     True   True   True   True   True      2015   \n",
              "\n",
              "   weight display_type  ...  IM_64GB IM_32GB IM_16GB IM_1GB_15GB  \\\n",
              "0   260.0     IPS LCD   ...    False    True    True       False   \n",
              "1   169.0     IPS LCD   ...    False    True   False       False   \n",
              "2     NaN     IPS LCD   ...    False   False   False        True   \n",
              "3     NaN     IPS LCD   ...     True    True    True       False   \n",
              "4   166.0     IPS LCD   ...    False    True   False       False   \n",
              "\n",
              "  stereo_speaker  accelerometer proximity compass   gyro fingerprint  \n",
              "0          False           True      True   False  False       False  \n",
              "1          False           True      True   False  False        True  \n",
              "2          False           True      True   False  False       False  \n",
              "3           True           True     False   False  False       False  \n",
              "4          False           True      True    True  False       False  \n",
              "\n",
              "[5 rows x 46 columns]"
            ]
          },
          "metadata": {
            "tags": []
          },
          "execution_count": 29
        }
      ]
    },
    {
      "metadata": {
        "id": "VBKsDCRDuj7V",
        "colab_type": "text"
      },
      "cell_type": "markdown",
      "source": [
        "**KNN**"
      ]
    },
    {
      "metadata": {
        "id": "i0aGEtBTunOl",
        "colab_type": "code",
        "colab": {}
      },
      "cell_type": "code",
      "source": [
        "phones = phones.drop(\"Unnamed: 40\", axis=1)"
      ],
      "execution_count": 0,
      "outputs": []
    },
    {
      "metadata": {
        "id": "oW8-eKf_QlFq",
        "colab_type": "code",
        "colab": {}
      },
      "cell_type": "code",
      "source": [
        "#Passando os dados para category\n",
        "\n",
        "phones['brand'] = phones['brand'].astype('category')\n",
        "phones['model'] = phones['model'].astype('category')\n",
        "phones['network'] = phones['network'].astype('category')\n",
        "phones['3G'] = phones['3G'].astype('category')\n",
        "phones['4G'] = phones['4G'].astype('category')\n",
        "phones['GPRS'] = phones['GPRS'].astype('category')\n",
        "phones['EDGE'] = phones['EDGE'].astype('category')\n",
        "phones['announced'] = phones['announced'].astype('category')\n",
        "phones['display_type'] = phones['display_type'].astype('category')\n",
        "phones['display_resolution'] = phones['display_resolution'].astype('category')\n",
        "phones['OS_name'] = phones['OS_name'].astype('category')\n",
        "phones['CPU'] = phones['CPU'].astype('category')\n",
        "phones['Chipset'] = phones['Chipset'].astype('category')\n",
        "phones['memory_card'] = phones['memory_card'].astype('category')\n",
        "phones['primary_camera'] = phones['primary_camera'].astype('category')\n",
        "phones['secondary_camera'] = phones['secondary_camera'].astype('category')\n",
        "phones['speaker'] = phones['speaker'].astype('category')\n",
        "phones['audio_jack'] = phones['audio_jack'].astype('category')\n",
        "phones['WIFI'] = phones['WIFI'].astype('category')\n",
        "phones['bluetooth'] = phones['bluetooth'].astype('category')\n",
        "phones['GPS'] = phones['GPS'].astype('category')\n",
        "phones['img_url'] = phones['img_url'].astype('category')\n",
        "phones['display_colors'] = phones['display_colors'].astype('category')\n",
        "phones['OS_version'] = phones['OS_version'].astype('category')\n",
        "phones['IM_LT_1GB'] = phones['IM_LT_1GB'].astype('category')\n",
        "phones['IM_MT_120GB'] = phones['IM_MT_120GB'].astype('category')\n",
        "phones['IM_64GB'] = phones['IM_64GB'].astype('category')\n",
        "phones['IM_32GB'] = phones['IM_32GB'].astype('category')\n",
        "phones['IM_16GB'] = phones['IM_16GB'].astype('category')\n",
        "phones['IM_1GB_15GB'] = phones['IM_1GB_15GB'].astype('category')\n",
        "phones['stereo_speaker'] = phones['stereo_speaker'].astype('category')\n",
        "phones['accelerometer'] = phones['accelerometer'].astype('category')\n",
        "phones['proximity'] = phones['proximity'].astype('category')\n",
        "phones['compass'] = phones['compass'].astype('category')\n",
        "phones['gyro'] = phones['gyro'].astype('category')\n",
        "phones['fingerprint'] = phones['fingerprint'].astype('category')"
      ],
      "execution_count": 0,
      "outputs": []
    },
    {
      "metadata": {
        "id": "t2LKV6keW0IS",
        "colab_type": "code",
        "colab": {}
      },
      "cell_type": "code",
      "source": [
        "#Criando uma cópia do dataframe para fazer o KNN para os missing values\n",
        "phones_knn = phones.copy(deep=True)"
      ],
      "execution_count": 0,
      "outputs": []
    },
    {
      "metadata": {
        "id": "MaE8xFViXD86",
        "colab_type": "code",
        "outputId": "79f3442d-b7e5-43ea-f780-e72b00beee85",
        "colab": {
          "base_uri": "https://localhost:8080/",
          "height": 799
        }
      },
      "cell_type": "code",
      "source": [
        "phones.isnull().sum()"
      ],
      "execution_count": 33,
      "outputs": [
        {
          "output_type": "execute_result",
          "data": {
            "text/plain": [
              "brand                    0\n",
              "model                    0\n",
              "network                  0\n",
              "3G                       0\n",
              "4G                       0\n",
              "GPRS                     0\n",
              "EDGE                     0\n",
              "announced                0\n",
              "weight                 953\n",
              "display_type          1119\n",
              "display_size          1233\n",
              "display_resolution       0\n",
              "OS_name                  0\n",
              "CPU                   3794\n",
              "Chipset                  0\n",
              "memory_card              0\n",
              "primary_camera           0\n",
              "secondary_camera         0\n",
              "speaker                  0\n",
              "audio_jack               0\n",
              "WIFI                     0\n",
              "bluetooth                0\n",
              "GPS                      0\n",
              "battery                961\n",
              "approx_price_EUR      3625\n",
              "img_url                  0\n",
              "ppi                   1313\n",
              "depth                  360\n",
              "width                  385\n",
              "height                 383\n",
              "body_ratio            1576\n",
              "display_colors        1472\n",
              "OS_version               0\n",
              "IM_LT_1GB                0\n",
              "IM_MT_120GB              0\n",
              "IM_64GB                  0\n",
              "IM_32GB                  0\n",
              "IM_16GB                  0\n",
              "IM_1GB_15GB              0\n",
              "stereo_speaker           0\n",
              "accelerometer            0\n",
              "proximity                0\n",
              "compass                  0\n",
              "gyro                     0\n",
              "fingerprint              0\n",
              "dtype: int64"
            ]
          },
          "metadata": {
            "tags": []
          },
          "execution_count": 33
        }
      ]
    },
    {
      "metadata": {
        "id": "N05yHd4QXLIR",
        "colab_type": "code",
        "colab": {}
      },
      "cell_type": "code",
      "source": [
        "#Passando os dados para category\n",
        "\n",
        "phones_knn['brand'] = phones_knn['brand'].cat.codes\n",
        "phones_knn['model'] = phones_knn['model'].cat.codes\n",
        "phones_knn['network'] = phones_knn['network'].cat.codes\n",
        "phones_knn['3G'] = phones_knn['3G'].cat.codes\n",
        "phones_knn['4G'] = phones_knn['4G'].cat.codes\n",
        "phones_knn['GPRS'] = phones_knn['GPRS'].cat.codes\n",
        "phones_knn['EDGE'] = phones_knn['EDGE'].cat.codes\n",
        "phones_knn['announced'] = phones_knn['announced'].cat.codes\n",
        "phones_knn['display_type'] = phones_knn['display_type'].cat.codes\n",
        "phones_knn['display_resolution'] = phones_knn['display_resolution'].cat.codes\n",
        "phones_knn['OS_name'] = phones_knn['OS_name'].cat.codes\n",
        "phones_knn['CPU'] = phones_knn['CPU'].cat.codes\n",
        "phones_knn['Chipset'] = phones_knn['Chipset'].cat.codes\n",
        "phones_knn['memory_card'] = phones_knn['memory_card'].cat.codes\n",
        "phones_knn['primary_camera'] = phones_knn['primary_camera'].cat.codes\n",
        "phones_knn['secondary_camera'] = phones_knn['secondary_camera'].cat.codes\n",
        "phones_knn['speaker'] = phones_knn['speaker'].cat.codes\n",
        "phones_knn['audio_jack'] = phones_knn['audio_jack'].cat.codes\n",
        "phones_knn['WIFI'] = phones_knn['WIFI'].cat.codes\n",
        "phones_knn['bluetooth'] = phones_knn['bluetooth'].cat.codes\n",
        "phones_knn['GPS'] = phones_knn['GPS'].cat.codes\n",
        "phones_knn['img_url'] = phones_knn['img_url'].cat.codes\n",
        "phones_knn['display_colors'] = phones_knn['display_colors'].cat.codes\n",
        "phones_knn['OS_version'] = phones_knn['OS_version'].cat.codes\n",
        "phones_knn['IM_LT_1GB'] = phones_knn['IM_LT_1GB'].cat.codes\n",
        "phones_knn['IM_MT_120GB'] = phones_knn['IM_MT_120GB'].cat.codes\n",
        "phones_knn['IM_64GB'] = phones_knn['IM_64GB'].cat.codes\n",
        "phones_knn['IM_32GB'] = phones_knn['IM_32GB'].cat.codes\n",
        "phones_knn['IM_16GB'] = phones_knn['IM_16GB'].cat.codes\n",
        "phones_knn['IM_1GB_15GB'] = phones_knn['IM_1GB_15GB'].cat.codes\n",
        "phones_knn['stereo_speaker'] = phones_knn['stereo_speaker'].cat.codes\n",
        "phones_knn['accelerometer'] = phones_knn['accelerometer'].cat.codes\n",
        "phones_knn['proximity'] = phones_knn['proximity'].cat.codes\n",
        "phones_knn['compass'] = phones_knn['compass'].cat.codes\n",
        "phones_knn['gyro'] = phones_knn['gyro'].cat.codes\n",
        "phones_knn['fingerprint'] = phones_knn['fingerprint'].cat.codes"
      ],
      "execution_count": 0,
      "outputs": []
    },
    {
      "metadata": {
        "id": "urscir-HYFzS",
        "colab_type": "code",
        "outputId": "7f5b0cce-e4ce-4c70-a613-960b7dc4b116",
        "colab": {
          "base_uri": "https://localhost:8080/",
          "height": 1513
        }
      },
      "cell_type": "code",
      "source": [
        "from fancyimpute import KNN\n",
        "phones_knn_aux = KNN(k=5).fit_transform(phones_knn)"
      ],
      "execution_count": 35,
      "outputs": [
        {
          "output_type": "stream",
          "text": [
            "Using TensorFlow backend.\n"
          ],
          "name": "stderr"
        },
        {
          "output_type": "stream",
          "text": [
            "Imputing row 1/8629 with 0 missing, elapsed time: 24.834\n",
            "Imputing row 101/8629 with 2 missing, elapsed time: 24.837\n",
            "Imputing row 201/8629 with 0 missing, elapsed time: 24.842\n",
            "Imputing row 301/8629 with 1 missing, elapsed time: 24.848\n",
            "Imputing row 401/8629 with 1 missing, elapsed time: 24.858\n",
            "Imputing row 501/8629 with 0 missing, elapsed time: 24.876\n",
            "Imputing row 601/8629 with 2 missing, elapsed time: 24.881\n",
            "Imputing row 701/8629 with 1 missing, elapsed time: 24.889\n",
            "Imputing row 801/8629 with 1 missing, elapsed time: 24.893\n",
            "Imputing row 901/8629 with 1 missing, elapsed time: 24.901\n",
            "Imputing row 1001/8629 with 5 missing, elapsed time: 24.918\n",
            "Imputing row 1101/8629 with 1 missing, elapsed time: 24.926\n",
            "Imputing row 1201/8629 with 0 missing, elapsed time: 24.936\n",
            "Imputing row 1301/8629 with 1 missing, elapsed time: 24.938\n",
            "Imputing row 1401/8629 with 0 missing, elapsed time: 24.948\n",
            "Imputing row 1501/8629 with 0 missing, elapsed time: 24.966\n",
            "Imputing row 1601/8629 with 5 missing, elapsed time: 24.977\n",
            "Imputing row 1701/8629 with 4 missing, elapsed time: 24.991\n",
            "Imputing row 1801/8629 with 5 missing, elapsed time: 25.000\n",
            "Imputing row 1901/8629 with 4 missing, elapsed time: 25.009\n",
            "Imputing row 2001/8629 with 0 missing, elapsed time: 25.016\n",
            "Imputing row 2101/8629 with 0 missing, elapsed time: 25.017\n",
            "Imputing row 2201/8629 with 0 missing, elapsed time: 25.021\n",
            "Imputing row 2301/8629 with 0 missing, elapsed time: 25.025\n",
            "Imputing row 2401/8629 with 0 missing, elapsed time: 25.027\n",
            "Imputing row 2501/8629 with 1 missing, elapsed time: 25.034\n",
            "Imputing row 2601/8629 with 6 missing, elapsed time: 25.055\n",
            "Imputing row 2701/8629 with 4 missing, elapsed time: 25.065\n",
            "Imputing row 2801/8629 with 0 missing, elapsed time: 25.077\n",
            "Imputing row 2901/8629 with 0 missing, elapsed time: 25.078\n",
            "Imputing row 3001/8629 with 0 missing, elapsed time: 25.081\n",
            "Imputing row 3101/8629 with 1 missing, elapsed time: 25.083\n",
            "Imputing row 3201/8629 with 0 missing, elapsed time: 25.084\n",
            "Imputing row 3301/8629 with 0 missing, elapsed time: 25.087\n",
            "Imputing row 3401/8629 with 0 missing, elapsed time: 25.089\n",
            "Imputing row 3501/8629 with 4 missing, elapsed time: 25.098\n",
            "Imputing row 3601/8629 with 4 missing, elapsed time: 25.123\n",
            "Imputing row 3701/8629 with 6 missing, elapsed time: 25.133\n",
            "Imputing row 3801/8629 with 5 missing, elapsed time: 25.155\n",
            "Imputing row 3901/8629 with 0 missing, elapsed time: 25.163\n",
            "Imputing row 4001/8629 with 5 missing, elapsed time: 25.173\n",
            "Imputing row 4101/8629 with 0 missing, elapsed time: 25.178\n",
            "Imputing row 4201/8629 with 0 missing, elapsed time: 25.179\n",
            "Imputing row 4301/8629 with 0 missing, elapsed time: 25.183\n",
            "Imputing row 4401/8629 with 4 missing, elapsed time: 25.204\n",
            "Imputing row 4501/8629 with 5 missing, elapsed time: 25.227\n",
            "Imputing row 4601/8629 with 0 missing, elapsed time: 25.239\n",
            "Imputing row 4701/8629 with 0 missing, elapsed time: 25.240\n",
            "Imputing row 4801/8629 with 0 missing, elapsed time: 25.242\n",
            "Imputing row 4901/8629 with 0 missing, elapsed time: 25.244\n",
            "Imputing row 5001/8629 with 4 missing, elapsed time: 25.256\n",
            "Imputing row 5101/8629 with 1 missing, elapsed time: 25.270\n",
            "Imputing row 5201/8629 with 2 missing, elapsed time: 25.275\n",
            "Imputing row 5301/8629 with 1 missing, elapsed time: 25.290\n",
            "Imputing row 5401/8629 with 2 missing, elapsed time: 25.304\n",
            "Imputing row 5501/8629 with 4 missing, elapsed time: 25.314\n",
            "Imputing row 5601/8629 with 1 missing, elapsed time: 25.335\n",
            "Imputing row 5701/8629 with 4 missing, elapsed time: 25.345\n",
            "Imputing row 5801/8629 with 1 missing, elapsed time: 25.351\n",
            "Imputing row 5901/8629 with 5 missing, elapsed time: 25.365\n",
            "Imputing row 6001/8629 with 1 missing, elapsed time: 25.383\n",
            "Imputing row 6101/8629 with 0 missing, elapsed time: 25.384\n",
            "Imputing row 6201/8629 with 0 missing, elapsed time: 25.386\n",
            "Imputing row 6301/8629 with 0 missing, elapsed time: 25.387\n",
            "Imputing row 6401/8629 with 0 missing, elapsed time: 25.388\n",
            "Imputing row 6501/8629 with 0 missing, elapsed time: 25.391\n",
            "Imputing row 6601/8629 with 0 missing, elapsed time: 25.392\n",
            "Imputing row 6701/8629 with 0 missing, elapsed time: 25.394\n",
            "Imputing row 6801/8629 with 1 missing, elapsed time: 25.399\n",
            "Imputing row 6901/8629 with 1 missing, elapsed time: 25.405\n",
            "Imputing row 7001/8629 with 4 missing, elapsed time: 25.423\n",
            "Imputing row 7101/8629 with 4 missing, elapsed time: 25.449\n",
            "Imputing row 7201/8629 with 5 missing, elapsed time: 25.469\n",
            "Imputing row 7301/8629 with 0 missing, elapsed time: 25.485\n",
            "Imputing row 7401/8629 with 0 missing, elapsed time: 25.491\n",
            "Imputing row 7501/8629 with 1 missing, elapsed time: 25.493\n",
            "Imputing row 7601/8629 with 3 missing, elapsed time: 25.504\n",
            "Imputing row 7701/8629 with 1 missing, elapsed time: 25.507\n",
            "Imputing row 7801/8629 with 0 missing, elapsed time: 25.520\n",
            "Imputing row 7901/8629 with 0 missing, elapsed time: 25.529\n",
            "Imputing row 8001/8629 with 0 missing, elapsed time: 25.539\n",
            "Imputing row 8101/8629 with 7 missing, elapsed time: 25.552\n",
            "Imputing row 8201/8629 with 0 missing, elapsed time: 25.563\n",
            "Imputing row 8301/8629 with 0 missing, elapsed time: 25.571\n",
            "Imputing row 8401/8629 with 0 missing, elapsed time: 25.579\n",
            "Imputing row 8501/8629 with 1 missing, elapsed time: 25.584\n",
            "Imputing row 8601/8629 with 1 missing, elapsed time: 25.595\n"
          ],
          "name": "stdout"
        }
      ]
    },
    {
      "metadata": {
        "id": "oxppVX6VYfNx",
        "colab_type": "code",
        "outputId": "c2f75a3f-cc26-4535-e3e1-b14662fdadcd",
        "colab": {
          "base_uri": "https://localhost:8080/",
          "height": 799
        }
      },
      "cell_type": "code",
      "source": [
        "phones.dtypes"
      ],
      "execution_count": 36,
      "outputs": [
        {
          "output_type": "execute_result",
          "data": {
            "text/plain": [
              "brand                 category\n",
              "model                 category\n",
              "network               category\n",
              "3G                    category\n",
              "4G                    category\n",
              "GPRS                  category\n",
              "EDGE                  category\n",
              "announced             category\n",
              "weight                 float64\n",
              "display_type          category\n",
              "display_size           float64\n",
              "display_resolution    category\n",
              "OS_name               category\n",
              "CPU                   category\n",
              "Chipset               category\n",
              "memory_card           category\n",
              "primary_camera        category\n",
              "secondary_camera      category\n",
              "speaker               category\n",
              "audio_jack            category\n",
              "WIFI                  category\n",
              "bluetooth             category\n",
              "GPS                   category\n",
              "battery                float64\n",
              "approx_price_EUR       float64\n",
              "img_url               category\n",
              "ppi                    float64\n",
              "depth                  float64\n",
              "width                  float64\n",
              "height                 float64\n",
              "body_ratio             float64\n",
              "display_colors        category\n",
              "OS_version            category\n",
              "IM_LT_1GB             category\n",
              "IM_MT_120GB           category\n",
              "IM_64GB               category\n",
              "IM_32GB               category\n",
              "IM_16GB               category\n",
              "IM_1GB_15GB           category\n",
              "stereo_speaker        category\n",
              "accelerometer         category\n",
              "proximity             category\n",
              "compass               category\n",
              "gyro                  category\n",
              "fingerprint           category\n",
              "dtype: object"
            ]
          },
          "metadata": {
            "tags": []
          },
          "execution_count": 36
        }
      ]
    },
    {
      "metadata": {
        "id": "2UCmEAF_YLiy",
        "colab_type": "code",
        "colab": {}
      },
      "cell_type": "code",
      "source": [
        "phones_knn_applied = pd.DataFrame(data=phones_knn_aux[0:,0:],columns=['brand',\t'model',\t'network',\t'3G',\t'4G',\t'GPRS', 'EDGE', 'announced', 'weight', 'display_type', 'display_size', 'display_resolution' ,'OS_name', 'CPU', 'Chipset', 'memory_card', 'primary_camera', 'secondary_camera', 'speaker', 'audio_jack', 'WIFI', 'bluetooth', 'GPS', 'battery', 'approx_price_EUR', 'img_url', 'ppi', 'depth', 'width', 'height', 'body_ratio', 'display_colors', 'OS_version', 'IM_LT_1GB', 'IM_MT_120GB', 'IM_64GB', 'IM_32GB', 'IM_16GB', 'IM_1GB_15GB', 'stereo_speaker', 'accelerometer', 'proximity', 'compass', 'gyro', 'fingerprint'])"
      ],
      "execution_count": 0,
      "outputs": []
    },
    {
      "metadata": {
        "id": "sTmwSj8JZaIp",
        "colab_type": "code",
        "colab": {}
      },
      "cell_type": "code",
      "source": [
        "phones['weight'] = phones_knn_applied['weight']\n",
        "phones['display_size'] = phones_knn_applied['display_size']\n",
        "phones['battery'] = phones_knn_applied['battery']\n",
        "phones['approx_price_EUR'] = phones_knn_applied['approx_price_EUR']\n",
        "phones['ppi'] = phones_knn_applied['ppi']\n",
        "phones['depth'] = phones_knn_applied['depth']\n",
        "phones['width'] = phones_knn_applied['width']\n",
        "phones['height'] = phones_knn_applied['height']\n",
        "phones['body_ratio'] = phones_knn_applied['body_ratio']"
      ],
      "execution_count": 0,
      "outputs": []
    },
    {
      "metadata": {
        "id": "BbGLcQ-18_6y",
        "colab_type": "code",
        "colab": {
          "base_uri": "https://localhost:8080/",
          "height": 406
        },
        "outputId": "c06ea50a-5037-4e23-e593-41f65c32bd9a"
      },
      "cell_type": "code",
      "source": [
        "phones.head()"
      ],
      "execution_count": 40,
      "outputs": [
        {
          "output_type": "execute_result",
          "data": {
            "text/html": [
              "<div>\n",
              "<style scoped>\n",
              "    .dataframe tbody tr th:only-of-type {\n",
              "        vertical-align: middle;\n",
              "    }\n",
              "\n",
              "    .dataframe tbody tr th {\n",
              "        vertical-align: top;\n",
              "    }\n",
              "\n",
              "    .dataframe thead th {\n",
              "        text-align: right;\n",
              "    }\n",
              "</style>\n",
              "<table border=\"1\" class=\"dataframe\">\n",
              "  <thead>\n",
              "    <tr style=\"text-align: right;\">\n",
              "      <th></th>\n",
              "      <th>brand</th>\n",
              "      <th>model</th>\n",
              "      <th>network</th>\n",
              "      <th>3G</th>\n",
              "      <th>4G</th>\n",
              "      <th>GPRS</th>\n",
              "      <th>EDGE</th>\n",
              "      <th>announced</th>\n",
              "      <th>weight</th>\n",
              "      <th>display_type</th>\n",
              "      <th>...</th>\n",
              "      <th>IM_64GB</th>\n",
              "      <th>IM_32GB</th>\n",
              "      <th>IM_16GB</th>\n",
              "      <th>IM_1GB_15GB</th>\n",
              "      <th>stereo_speaker</th>\n",
              "      <th>accelerometer</th>\n",
              "      <th>proximity</th>\n",
              "      <th>compass</th>\n",
              "      <th>gyro</th>\n",
              "      <th>fingerprint</th>\n",
              "    </tr>\n",
              "  </thead>\n",
              "  <tbody>\n",
              "    <tr>\n",
              "      <th>0</th>\n",
              "      <td>Acer</td>\n",
              "      <td>Iconia Talk S</td>\n",
              "      <td>True</td>\n",
              "      <td>True</td>\n",
              "      <td>True</td>\n",
              "      <td>True</td>\n",
              "      <td>True</td>\n",
              "      <td>2016</td>\n",
              "      <td>260.000000</td>\n",
              "      <td>IPS LCD</td>\n",
              "      <td>...</td>\n",
              "      <td>False</td>\n",
              "      <td>True</td>\n",
              "      <td>True</td>\n",
              "      <td>False</td>\n",
              "      <td>False</td>\n",
              "      <td>True</td>\n",
              "      <td>True</td>\n",
              "      <td>False</td>\n",
              "      <td>False</td>\n",
              "      <td>False</td>\n",
              "    </tr>\n",
              "    <tr>\n",
              "      <th>1</th>\n",
              "      <td>Acer</td>\n",
              "      <td>Liquid Z6 Plus</td>\n",
              "      <td>True</td>\n",
              "      <td>True</td>\n",
              "      <td>True</td>\n",
              "      <td>True</td>\n",
              "      <td>True</td>\n",
              "      <td>2016</td>\n",
              "      <td>169.000000</td>\n",
              "      <td>IPS LCD</td>\n",
              "      <td>...</td>\n",
              "      <td>False</td>\n",
              "      <td>True</td>\n",
              "      <td>False</td>\n",
              "      <td>False</td>\n",
              "      <td>False</td>\n",
              "      <td>True</td>\n",
              "      <td>True</td>\n",
              "      <td>False</td>\n",
              "      <td>False</td>\n",
              "      <td>True</td>\n",
              "    </tr>\n",
              "    <tr>\n",
              "      <th>2</th>\n",
              "      <td>Acer</td>\n",
              "      <td>Liquid Z6</td>\n",
              "      <td>True</td>\n",
              "      <td>True</td>\n",
              "      <td>True</td>\n",
              "      <td>True</td>\n",
              "      <td>True</td>\n",
              "      <td>2016</td>\n",
              "      <td>136.200166</td>\n",
              "      <td>IPS LCD</td>\n",
              "      <td>...</td>\n",
              "      <td>False</td>\n",
              "      <td>False</td>\n",
              "      <td>False</td>\n",
              "      <td>True</td>\n",
              "      <td>False</td>\n",
              "      <td>True</td>\n",
              "      <td>True</td>\n",
              "      <td>False</td>\n",
              "      <td>False</td>\n",
              "      <td>False</td>\n",
              "    </tr>\n",
              "    <tr>\n",
              "      <th>3</th>\n",
              "      <td>Acer</td>\n",
              "      <td>Iconia Tab 10 A3-A40</td>\n",
              "      <td>False</td>\n",
              "      <td>False</td>\n",
              "      <td>False</td>\n",
              "      <td>False</td>\n",
              "      <td>False</td>\n",
              "      <td>2016</td>\n",
              "      <td>578.878977</td>\n",
              "      <td>IPS LCD</td>\n",
              "      <td>...</td>\n",
              "      <td>True</td>\n",
              "      <td>True</td>\n",
              "      <td>True</td>\n",
              "      <td>False</td>\n",
              "      <td>True</td>\n",
              "      <td>True</td>\n",
              "      <td>False</td>\n",
              "      <td>False</td>\n",
              "      <td>False</td>\n",
              "      <td>False</td>\n",
              "    </tr>\n",
              "    <tr>\n",
              "      <th>4</th>\n",
              "      <td>Acer</td>\n",
              "      <td>Liquid X2</td>\n",
              "      <td>True</td>\n",
              "      <td>True</td>\n",
              "      <td>True</td>\n",
              "      <td>True</td>\n",
              "      <td>True</td>\n",
              "      <td>2015</td>\n",
              "      <td>166.000000</td>\n",
              "      <td>IPS LCD</td>\n",
              "      <td>...</td>\n",
              "      <td>False</td>\n",
              "      <td>True</td>\n",
              "      <td>False</td>\n",
              "      <td>False</td>\n",
              "      <td>False</td>\n",
              "      <td>True</td>\n",
              "      <td>True</td>\n",
              "      <td>True</td>\n",
              "      <td>False</td>\n",
              "      <td>False</td>\n",
              "    </tr>\n",
              "  </tbody>\n",
              "</table>\n",
              "<p>5 rows × 45 columns</p>\n",
              "</div>"
            ],
            "text/plain": [
              "  brand                 model network     3G     4G   GPRS   EDGE announced  \\\n",
              "0  Acer         Iconia Talk S    True   True   True   True   True      2016   \n",
              "1  Acer        Liquid Z6 Plus    True   True   True   True   True      2016   \n",
              "2  Acer             Liquid Z6    True   True   True   True   True      2016   \n",
              "3  Acer  Iconia Tab 10 A3-A40   False  False  False  False  False      2016   \n",
              "4  Acer             Liquid X2    True   True   True   True   True      2015   \n",
              "\n",
              "       weight display_type  ...  IM_64GB IM_32GB IM_16GB IM_1GB_15GB  \\\n",
              "0  260.000000     IPS LCD   ...    False    True    True       False   \n",
              "1  169.000000     IPS LCD   ...    False    True   False       False   \n",
              "2  136.200166     IPS LCD   ...    False   False   False        True   \n",
              "3  578.878977     IPS LCD   ...     True    True    True       False   \n",
              "4  166.000000     IPS LCD   ...    False    True   False       False   \n",
              "\n",
              "  stereo_speaker accelerometer proximity compass   gyro fingerprint  \n",
              "0          False          True      True   False  False       False  \n",
              "1          False          True      True   False  False        True  \n",
              "2          False          True      True   False  False       False  \n",
              "3           True          True     False   False  False       False  \n",
              "4          False          True      True    True  False       False  \n",
              "\n",
              "[5 rows x 45 columns]"
            ]
          },
          "metadata": {
            "tags": []
          },
          "execution_count": 40
        }
      ]
    },
    {
      "metadata": {
        "id": "vwfJKjqtlXpy",
        "colab_type": "text"
      },
      "cell_type": "markdown",
      "source": [
        "**Plotando Gráficos**"
      ]
    },
    {
      "metadata": {
        "id": "KhTumkxciW06",
        "colab_type": "code",
        "outputId": "d393ee30-8f45-4618-fc68-6e6aff401f8b",
        "colab": {
          "base_uri": "https://localhost:8080/",
          "height": 2305
        }
      },
      "cell_type": "code",
      "source": [
        "phones[['weight']].plot(kind='box')\n",
        "phones[['display_size']].plot(kind='box')\n",
        "phones[['battery']].plot(kind='box')\n",
        "phones[['approx_price_EUR']].plot(kind='box')\n",
        "phones[['ppi']].plot(kind='box')\n",
        "phones[['depth']].plot(kind='box')\n",
        "phones[['width']].plot(kind='box')\n",
        "phones[['height']].plot(kind='box')\n",
        "phones[['body_ratio']].plot(kind='box')"
      ],
      "execution_count": 41,
      "outputs": [
        {
          "output_type": "execute_result",
          "data": {
            "text/plain": [
              "<matplotlib.axes._subplots.AxesSubplot at 0x7fa61c0222b0>"
            ]
          },
          "metadata": {
            "tags": []
          },
          "execution_count": 41
        },
        {
          "output_type": "display_data",
          "data": {
            "image/png": "[encoded data removed]",
            "text/plain": [
              "<Figure size 432x288 with 1 Axes>"
            ]
          },
          "metadata": {
            "tags": []
          }
        },
        {
          "output_type": "display_data",
          "data": {
            "image/png": "[encoded data removed]",
            "text/plain": [
              "<Figure size 432x288 with 1 Axes>"
            ]
          },
          "metadata": {
            "tags": []
          }
        },
        {
          "output_type": "display_data",
          "data": {
            "image/png": "[encoded data removed]",
            "text/plain": [
              "<Figure size 432x288 with 1 Axes>"
            ]
          },
          "metadata": {
            "tags": []
          }
        },
        {
          "output_type": "display_data",
          "data": {
            "image/png": "[encoded data removed]",
            "text/plain": [
              "<Figure size 432x288 with 1 Axes>"
            ]
          },
          "metadata": {
            "tags": []
          }
        },
        {
          "output_type": "display_data",
          "data": {
            "image/png": "[encoded data removed]",
            "text/plain": [
              "<Figure size 432x288 with 1 Axes>"
            ]
          },
          "metadata": {
            "tags": []
          }
        },
        {
          "output_type": "display_data",
          "data": {
            "image/png": "[encoded data removed]",
            "text/plain": [
              "<Figure size 432x288 with 1 Axes>"
            ]
          },
          "metadata": {
            "tags": []
          }
        },
        {
          "output_type": "display_data",
          "data": {
            "image/png": "[encoded data removed]",
            "text/plain": [
              "<Figure size 432x288 with 1 Axes>"
            ]
          },
          "metadata": {
            "tags": []
          }
        },
        {
          "output_type": "display_data",
          "data": {
            "image/png": "[encoded data removed]",
            "text/plain": [
              "<Figure size 432x288 with 1 Axes>"
            ]
          },
          "metadata": {
            "tags": []
          }
        },
        {
          "output_type": "display_data",
          "data": {
            "image/png": "[encoded data removed]",
            "text/plain": [
              "<Figure size 432x288 with 1 Axes>"
            ]
          },
          "metadata": {
            "tags": []
          }
        }
      ]
    },
    {
      "metadata": {
        "id": "GNsPLITIwJYf",
        "colab_type": "text"
      },
      "cell_type": "markdown",
      "source": [
        "**Separar Tablet, Smartphone e Dumbphone**"
      ]
    },
    {
      "metadata": {
        "id": "qRGE4bsMwMz2",
        "colab_type": "code",
        "colab": {}
      },
      "cell_type": "code",
      "source": [
        "phones['type'] = phones['display_size'].apply(lambda x: 'Tablet' if x >= 6.4 else ('Phone' if x < 4.0 else 'Smartphone'))"
      ],
      "execution_count": 0,
      "outputs": []
    },
    {
      "metadata": {
        "id": "4Ub_-yvDwb45",
        "colab_type": "code",
        "outputId": "dbfc31d8-d60c-471d-9be1-b41d7c4acfea",
        "colab": {
          "base_uri": "https://localhost:8080/",
          "height": 2305
        }
      },
      "cell_type": "code",
      "source": [
        "phones.loc[(phones.type == 'Tablet'), ['weight']].plot(kind='box')\n",
        "phones.loc[(phones.type == 'Tablet'), ['display_size']].plot(kind='box')\n",
        "phones.loc[(phones.type == 'Tablet'), ['battery']].plot(kind='box')\n",
        "phones.loc[(phones.type == 'Tablet'), ['approx_price_EUR']].plot(kind='box')\n",
        "phones.loc[(phones.type == 'Tablet'), ['ppi']].plot(kind='box')\n",
        "phones.loc[(phones.type == 'Tablet'), ['depth']].plot(kind='box')\n",
        "phones.loc[(phones.type == 'Tablet'), ['width']].plot(kind='box')\n",
        "phones.loc[(phones.type == 'Tablet'), ['height']].plot(kind='box')\n",
        "phones.loc[(phones.type == 'Tablet'), ['body_ratio']].plot(kind='box')"
      ],
      "execution_count": 43,
      "outputs": [
        {
          "output_type": "execute_result",
          "data": {
            "text/plain": [
              "<matplotlib.axes._subplots.AxesSubplot at 0x7fa61bccdb38>"
            ]
          },
          "metadata": {
            "tags": []
          },
          "execution_count": 43
        },
        {
          "output_type": "display_data",
          "data": {
            "image/png": "[encoded data removed]",
            "text/plain": [
              "<Figure size 432x288 with 1 Axes>"
            ]
          },
          "metadata": {
            "tags": []
          }
        },
        {
          "output_type": "display_data",
          "data": {
            "image/png": "[encoded data removed]",
            "text/plain": [
              "<Figure size 432x288 with 1 Axes>"
            ]
          },
          "metadata": {
            "tags": []
          }
        },
        {
          "output_type": "display_data",
          "data": {
            "image/png": "[encoded data removed]",
            "text/plain": [
              "<Figure size 432x288 with 1 Axes>"
            ]
          },
          "metadata": {
            "tags": []
          }
        },
        {
          "output_type": "display_data",
          "data": {
            "image/png": "[encoded data removed]",
            "text/plain": [
              "<Figure size 432x288 with 1 Axes>"
            ]
          },
          "metadata": {
            "tags": []
          }
        },
        {
          "output_type": "display_data",
          "data": {
            "image/png": "[encoded data removed]",
            "text/plain": [
              "<Figure size 432x288 with 1 Axes>"
            ]
          },
          "metadata": {
            "tags": []
          }
        },
        {
          "output_type": "display_data",
          "data": {
            "image/png": "[encoded data removed]",
            "text/plain": [
              "<Figure size 432x288 with 1 Axes>"
            ]
          },
          "metadata": {
            "tags": []
          }
        },
        {
          "output_type": "display_data",
          "data": {
            "image/png": "[encoded data removed]",
            "text/plain": [
              "<Figure size 432x288 with 1 Axes>"
            ]
          },
          "metadata": {
            "tags": []
          }
        },
        {
          "output_type": "display_data",
          "data": {
            "image/png": "[encoded data removed]",
            "text/plain": [
              "<Figure size 432x288 with 1 Axes>"
            ]
          },
          "metadata": {
            "tags": []
          }
        },
        {
          "output_type": "display_data",
          "data": {
            "image/png": "[encoded data removed]",
            "text/plain": [
              "<Figure size 432x288 with 1 Axes>"
            ]
          },
          "metadata": {
            "tags": []
          }
        }
      ]
    },
    {
      "metadata": {
        "id": "8JTuzAeP2J_G",
        "colab_type": "code",
        "outputId": "900c9631-55f3-4368-ddee-d6717022e940",
        "colab": {
          "base_uri": "https://localhost:8080/",
          "height": 297
        }
      },
      "cell_type": "code",
      "source": [
        "phones[['width']].describe()"
      ],
      "execution_count": 44,
      "outputs": [
        {
          "output_type": "execute_result",
          "data": {
            "text/html": [
              "<div>\n",
              "<style scoped>\n",
              "    .dataframe tbody tr th:only-of-type {\n",
              "        vertical-align: middle;\n",
              "    }\n",
              "\n",
              "    .dataframe tbody tr th {\n",
              "        vertical-align: top;\n",
              "    }\n",
              "\n",
              "    .dataframe thead th {\n",
              "        text-align: right;\n",
              "    }\n",
              "</style>\n",
              "<table border=\"1\" class=\"dataframe\">\n",
              "  <thead>\n",
              "    <tr style=\"text-align: right;\">\n",
              "      <th></th>\n",
              "      <th>width</th>\n",
              "    </tr>\n",
              "  </thead>\n",
              "  <tbody>\n",
              "    <tr>\n",
              "      <th>count</th>\n",
              "      <td>8629.000000</td>\n",
              "    </tr>\n",
              "    <tr>\n",
              "      <th>mean</th>\n",
              "      <td>124.444679</td>\n",
              "    </tr>\n",
              "    <tr>\n",
              "      <th>std</th>\n",
              "      <td>33.268595</td>\n",
              "    </tr>\n",
              "    <tr>\n",
              "      <th>min</th>\n",
              "      <td>23.000000</td>\n",
              "    </tr>\n",
              "    <tr>\n",
              "      <th>25%</th>\n",
              "      <td>105.000000</td>\n",
              "    </tr>\n",
              "    <tr>\n",
              "      <th>50%</th>\n",
              "      <td>116.000000</td>\n",
              "    </tr>\n",
              "    <tr>\n",
              "      <th>75%</th>\n",
              "      <td>141.500000</td>\n",
              "    </tr>\n",
              "    <tr>\n",
              "      <th>max</th>\n",
              "      <td>451.800000</td>\n",
              "    </tr>\n",
              "  </tbody>\n",
              "</table>\n",
              "</div>"
            ],
            "text/plain": [
              "             width\n",
              "count  8629.000000\n",
              "mean    124.444679\n",
              "std      33.268595\n",
              "min      23.000000\n",
              "25%     105.000000\n",
              "50%     116.000000\n",
              "75%     141.500000\n",
              "max     451.800000"
            ]
          },
          "metadata": {
            "tags": []
          },
          "execution_count": 44
        }
      ]
    },
    {
      "metadata": {
        "id": "KryXI8du4dz1",
        "colab_type": "code",
        "outputId": "08b06262-4682-4461-8349-1f1eb1a9871f",
        "colab": {
          "base_uri": "https://localhost:8080/",
          "height": 297
        }
      },
      "cell_type": "code",
      "source": [
        "phones[['approx_price_EUR']].describe()"
      ],
      "execution_count": 45,
      "outputs": [
        {
          "output_type": "execute_result",
          "data": {
            "text/html": [
              "<div>\n",
              "<style scoped>\n",
              "    .dataframe tbody tr th:only-of-type {\n",
              "        vertical-align: middle;\n",
              "    }\n",
              "\n",
              "    .dataframe tbody tr th {\n",
              "        vertical-align: top;\n",
              "    }\n",
              "\n",
              "    .dataframe thead th {\n",
              "        text-align: right;\n",
              "    }\n",
              "</style>\n",
              "<table border=\"1\" class=\"dataframe\">\n",
              "  <thead>\n",
              "    <tr style=\"text-align: right;\">\n",
              "      <th></th>\n",
              "      <th>approx_price_EUR</th>\n",
              "    </tr>\n",
              "  </thead>\n",
              "  <tbody>\n",
              "    <tr>\n",
              "      <th>count</th>\n",
              "      <td>8629.000000</td>\n",
              "    </tr>\n",
              "    <tr>\n",
              "      <th>mean</th>\n",
              "      <td>207.556461</td>\n",
              "    </tr>\n",
              "    <tr>\n",
              "      <th>std</th>\n",
              "      <td>551.092323</td>\n",
              "    </tr>\n",
              "    <tr>\n",
              "      <th>min</th>\n",
              "      <td>10.000000</td>\n",
              "    </tr>\n",
              "    <tr>\n",
              "      <th>25%</th>\n",
              "      <td>80.000000</td>\n",
              "    </tr>\n",
              "    <tr>\n",
              "      <th>50%</th>\n",
              "      <td>130.000000</td>\n",
              "    </tr>\n",
              "    <tr>\n",
              "      <th>75%</th>\n",
              "      <td>208.817052</td>\n",
              "    </tr>\n",
              "    <tr>\n",
              "      <th>max</th>\n",
              "      <td>27000.000000</td>\n",
              "    </tr>\n",
              "  </tbody>\n",
              "</table>\n",
              "</div>"
            ],
            "text/plain": [
              "       approx_price_EUR\n",
              "count       8629.000000\n",
              "mean         207.556461\n",
              "std          551.092323\n",
              "min           10.000000\n",
              "25%           80.000000\n",
              "50%          130.000000\n",
              "75%          208.817052\n",
              "max        27000.000000"
            ]
          },
          "metadata": {
            "tags": []
          },
          "execution_count": 45
        }
      ]
    },
    {
      "metadata": {
        "id": "ISsh9lUK9Z1e",
        "colab_type": "code",
        "outputId": "4c3e5bfa-06d4-4162-ade8-5e87ed8787f1",
        "colab": {
          "base_uri": "https://localhost:8080/",
          "height": 297
        }
      },
      "cell_type": "code",
      "source": [
        "phones[['depth']].describe()"
      ],
      "execution_count": 46,
      "outputs": [
        {
          "output_type": "execute_result",
          "data": {
            "text/html": [
              "<div>\n",
              "<style scoped>\n",
              "    .dataframe tbody tr th:only-of-type {\n",
              "        vertical-align: middle;\n",
              "    }\n",
              "\n",
              "    .dataframe tbody tr th {\n",
              "        vertical-align: top;\n",
              "    }\n",
              "\n",
              "    .dataframe thead th {\n",
              "        text-align: right;\n",
              "    }\n",
              "</style>\n",
              "<table border=\"1\" class=\"dataframe\">\n",
              "  <thead>\n",
              "    <tr style=\"text-align: right;\">\n",
              "      <th></th>\n",
              "      <th>depth</th>\n",
              "    </tr>\n",
              "  </thead>\n",
              "  <tbody>\n",
              "    <tr>\n",
              "      <th>count</th>\n",
              "      <td>8629.000000</td>\n",
              "    </tr>\n",
              "    <tr>\n",
              "      <th>mean</th>\n",
              "      <td>13.676815</td>\n",
              "    </tr>\n",
              "    <tr>\n",
              "      <th>std</th>\n",
              "      <td>5.825144</td>\n",
              "    </tr>\n",
              "    <tr>\n",
              "      <th>min</th>\n",
              "      <td>0.000000</td>\n",
              "    </tr>\n",
              "    <tr>\n",
              "      <th>25%</th>\n",
              "      <td>9.595226</td>\n",
              "    </tr>\n",
              "    <tr>\n",
              "      <th>50%</th>\n",
              "      <td>12.500000</td>\n",
              "    </tr>\n",
              "    <tr>\n",
              "      <th>75%</th>\n",
              "      <td>16.700000</td>\n",
              "    </tr>\n",
              "    <tr>\n",
              "      <th>max</th>\n",
              "      <td>205.200000</td>\n",
              "    </tr>\n",
              "  </tbody>\n",
              "</table>\n",
              "</div>"
            ],
            "text/plain": [
              "             depth\n",
              "count  8629.000000\n",
              "mean     13.676815\n",
              "std       5.825144\n",
              "min       0.000000\n",
              "25%       9.595226\n",
              "50%      12.500000\n",
              "75%      16.700000\n",
              "max     205.200000"
            ]
          },
          "metadata": {
            "tags": []
          },
          "execution_count": 46
        }
      ]
    },
    {
      "metadata": {
        "id": "txGjyzZYDQ0k",
        "colab_type": "code",
        "outputId": "77190f11-b5df-4b51-d195-250b8ed4bb9b",
        "colab": {
          "base_uri": "https://localhost:8080/",
          "height": 297
        }
      },
      "cell_type": "code",
      "source": [
        "phones[['ppi']].describe()"
      ],
      "execution_count": 47,
      "outputs": [
        {
          "output_type": "execute_result",
          "data": {
            "text/html": [
              "<div>\n",
              "<style scoped>\n",
              "    .dataframe tbody tr th:only-of-type {\n",
              "        vertical-align: middle;\n",
              "    }\n",
              "\n",
              "    .dataframe tbody tr th {\n",
              "        vertical-align: top;\n",
              "    }\n",
              "\n",
              "    .dataframe thead th {\n",
              "        text-align: right;\n",
              "    }\n",
              "</style>\n",
              "<table border=\"1\" class=\"dataframe\">\n",
              "  <thead>\n",
              "    <tr style=\"text-align: right;\">\n",
              "      <th></th>\n",
              "      <th>ppi</th>\n",
              "    </tr>\n",
              "  </thead>\n",
              "  <tbody>\n",
              "    <tr>\n",
              "      <th>count</th>\n",
              "      <td>8629.000000</td>\n",
              "    </tr>\n",
              "    <tr>\n",
              "      <th>mean</th>\n",
              "      <td>205.271916</td>\n",
              "    </tr>\n",
              "    <tr>\n",
              "      <th>std</th>\n",
              "      <td>87.279288</td>\n",
              "    </tr>\n",
              "    <tr>\n",
              "      <th>min</th>\n",
              "      <td>66.000000</td>\n",
              "    </tr>\n",
              "    <tr>\n",
              "      <th>25%</th>\n",
              "      <td>143.000000</td>\n",
              "    </tr>\n",
              "    <tr>\n",
              "      <th>50%</th>\n",
              "      <td>180.000000</td>\n",
              "    </tr>\n",
              "    <tr>\n",
              "      <th>75%</th>\n",
              "      <td>245.000000</td>\n",
              "    </tr>\n",
              "    <tr>\n",
              "      <th>max</th>\n",
              "      <td>807.000000</td>\n",
              "    </tr>\n",
              "  </tbody>\n",
              "</table>\n",
              "</div>"
            ],
            "text/plain": [
              "               ppi\n",
              "count  8629.000000\n",
              "mean    205.271916\n",
              "std      87.279288\n",
              "min      66.000000\n",
              "25%     143.000000\n",
              "50%     180.000000\n",
              "75%     245.000000\n",
              "max     807.000000"
            ]
          },
          "metadata": {
            "tags": []
          },
          "execution_count": 47
        }
      ]
    },
    {
      "metadata": {
        "id": "4ic5Aipk9dig",
        "colab_type": "code",
        "colab": {}
      },
      "cell_type": "code",
      "source": [
        "#Removendo outlier de weight\n",
        "phones = phones.drop(phones.index[1921])\n",
        "#Removendo outlier de price\n",
        "phones = phones.drop(phones.index[1798])\n",
        "#Removendo outlier de depth\n",
        "phones = phones.drop(phones.index[741])\n",
        "#Removendo outlier de width\n",
        "phones = phones.drop(phones.index[6025])"
      ],
      "execution_count": 0,
      "outputs": []
    },
    {
      "metadata": {
        "id": "wr1sHoqxw5mk",
        "colab_type": "code",
        "outputId": "cd44b016-f382-491c-f09c-623e6dad1497",
        "colab": {
          "base_uri": "https://localhost:8080/",
          "height": 2305
        }
      },
      "cell_type": "code",
      "source": [
        "phones.loc[(phones.type == 'Phone'), ['weight']].plot(kind='box')\n",
        "phones.loc[(phones.type == 'Phone'), ['display_size']].plot(kind='box')\n",
        "phones.loc[(phones.type == 'Phone'), ['battery']].plot(kind='box')\n",
        "phones.loc[(phones.type == 'Phone'), ['approx_price_EUR']].plot(kind='box')\n",
        "phones.loc[(phones.type == 'Phone'), ['ppi']].plot(kind='box')\n",
        "phones.loc[(phones.type == 'Phone'), ['depth']].plot(kind='box')\n",
        "phones.loc[(phones.type == 'Phone'), ['width']].plot(kind='box')\n",
        "phones.loc[(phones.type == 'Phone'), ['height']].plot(kind='box')\n",
        "phones.loc[(phones.type == 'Phone'), ['body_ratio']].plot(kind='box')"
      ],
      "execution_count": 49,
      "outputs": [
        {
          "output_type": "execute_result",
          "data": {
            "text/plain": [
              "<matplotlib.axes._subplots.AxesSubplot at 0x7fa61c094f60>"
            ]
          },
          "metadata": {
            "tags": []
          },
          "execution_count": 49
        },
        {
          "output_type": "display_data",
          "data": {
            "image/png": "[encoded data removed]",
            "text/plain": [
              "<Figure size 432x288 with 1 Axes>"
            ]
          },
          "metadata": {
            "tags": []
          }
        },
        {
          "output_type": "display_data",
          "data": {
            "image/png": "[encoded data removed]",
            "text/plain": [
              "<Figure size 432x288 with 1 Axes>"
            ]
          },
          "metadata": {
            "tags": []
          }
        },
        {
          "output_type": "display_data",
          "data": {
            "image/png": "[encoded data removed]",
            "text/plain": [
              "<Figure size 432x288 with 1 Axes>"
            ]
          },
          "metadata": {
            "tags": []
          }
        },
        {
          "output_type": "display_data",
          "data": {
            "image/png": "[encoded data removed]",
            "text/plain": [
              "<Figure size 432x288 with 1 Axes>"
            ]
          },
          "metadata": {
            "tags": []
          }
        },
        {
          "output_type": "display_data",
          "data": {
            "image/png": "[encoded data removed]",
            "text/plain": [
              "<Figure size 432x288 with 1 Axes>"
            ]
          },
          "metadata": {
            "tags": []
          }
        },
        {
          "output_type": "display_data",
          "data": {
            "image/png": "[encoded data removed]",
            "text/plain": [
              "<Figure size 432x288 with 1 Axes>"
            ]
          },
          "metadata": {
            "tags": []
          }
        },
        {
          "output_type": "display_data",
          "data": {
            "image/png": "[encoded data removed]",
            "text/plain": [
              "<Figure size 432x288 with 1 Axes>"
            ]
          },
          "metadata": {
            "tags": []
          }
        },
        {
          "output_type": "display_data",
          "data": {
            "image/png": "[encoded data removed]",
            "text/plain": [
              "<Figure size 432x288 with 1 Axes>"
            ]
          },
          "metadata": {
            "tags": []
          }
        },
        {
          "output_type": "display_data",
          "data": {
            "image/png": "[encoded data removed]",
            "text/plain": [
              "<Figure size 432x288 with 1 Axes>"
            ]
          },
          "metadata": {
            "tags": []
          }
        }
      ]
    },
    {
      "metadata": {
        "id": "YNZxvvufxiUQ",
        "colab_type": "code",
        "outputId": "f6087d81-4338-417a-f833-db5bfed07b42",
        "colab": {
          "base_uri": "https://localhost:8080/",
          "height": 2305
        }
      },
      "cell_type": "code",
      "source": [
        "phones.loc[(phones.type == 'Smartphone'), ['weight']].plot(kind='box')\n",
        "phones.loc[(phones.type == 'Smartphone'), ['display_size']].plot(kind='box')\n",
        "phones.loc[(phones.type == 'Smartphone'), ['battery']].plot(kind='box')\n",
        "phones.loc[(phones.type == 'Smartphone'), ['approx_price_EUR']].plot(kind='box')\n",
        "phones.loc[(phones.type == 'Smartphone'), ['ppi']].plot(kind='box')\n",
        "phones.loc[(phones.type == 'Smartphone'), ['depth']].plot(kind='box')\n",
        "phones.loc[(phones.type == 'Smartphone'), ['width']].plot(kind='box')\n",
        "phones.loc[(phones.type == 'Smartphone'), ['height']].plot(kind='box')\n",
        "phones.loc[(phones.type == 'Smartphone'), ['body_ratio']].plot(kind='box')"
      ],
      "execution_count": 50,
      "outputs": [
        {
          "output_type": "execute_result",
          "data": {
            "text/plain": [
              "<matplotlib.axes._subplots.AxesSubplot at 0x7fa61bbd90f0>"
            ]
          },
          "metadata": {
            "tags": []
          },
          "execution_count": 50
        },
        {
          "output_type": "display_data",
          "data": {
            "image/png": "[encoded data removed]",
            "text/plain": [
              "<Figure size 432x288 with 1 Axes>"
            ]
          },
          "metadata": {
            "tags": []
          }
        },
        {
          "output_type": "display_data",
          "data": {
            "image/png": "[encoded data removed]",
            "text/plain": [
              "<Figure size 432x288 with 1 Axes>"
            ]
          },
          "metadata": {
            "tags": []
          }
        },
        {
          "output_type": "display_data",
          "data": {
            "image/png": "[encoded data removed]",
            "text/plain": [
              "<Figure size 432x288 with 1 Axes>"
            ]
          },
          "metadata": {
            "tags": []
          }
        },
        {
          "output_type": "display_data",
          "data": {
            "image/png": "[encoded data removed]",
            "text/plain": [
              "<Figure size 432x288 with 1 Axes>"
            ]
          },
          "metadata": {
            "tags": []
          }
        },
        {
          "output_type": "display_data",
          "data": {
            "image/png": "[encoded data removed]",
            "text/plain": [
              "<Figure size 432x288 with 1 Axes>"
            ]
          },
          "metadata": {
            "tags": []
          }
        },
        {
          "output_type": "display_data",
          "data": {
            "image/png": "[encoded data removed]",
            "text/plain": [
              "<Figure size 432x288 with 1 Axes>"
            ]
          },
          "metadata": {
            "tags": []
          }
        },
        {
          "output_type": "display_data",
          "data": {
            "image/png": "[encoded data removed]",
            "text/plain": [
              "<Figure size 432x288 with 1 Axes>"
            ]
          },
          "metadata": {
            "tags": []
          }
        },
        {
          "output_type": "display_data",
          "data": {
            "image/png": "[encoded data removed]",
            "text/plain": [
              "<Figure size 432x288 with 1 Axes>"
            ]
          },
          "metadata": {
            "tags": []
          }
        },
        {
          "output_type": "display_data",
          "data": {
            "image/png": "[encoded data removed]",
            "text/plain": [
              "<Figure size 432x288 with 1 Axes>"
            ]
          },
          "metadata": {
            "tags": []
          }
        }
      ]
    },
    {
      "metadata": {
        "id": "muAF5I9lony0",
        "colab_type": "text"
      },
      "cell_type": "markdown",
      "source": [
        "**Correlações**"
      ]
    },
    {
      "metadata": {
        "id": "OaZ0ULIZmLQs",
        "colab_type": "code",
        "outputId": "8eb40b4e-526f-48ed-d8f7-56aed4bcd980",
        "colab": {
          "base_uri": "https://localhost:8080/",
          "height": 328
        }
      },
      "cell_type": "code",
      "source": [
        "phones.corr(method='spearman')"
      ],
      "execution_count": 51,
      "outputs": [
        {
          "output_type": "execute_result",
          "data": {
            "text/html": [
              "<div>\n",
              "<style scoped>\n",
              "    .dataframe tbody tr th:only-of-type {\n",
              "        vertical-align: middle;\n",
              "    }\n",
              "\n",
              "    .dataframe tbody tr th {\n",
              "        vertical-align: top;\n",
              "    }\n",
              "\n",
              "    .dataframe thead th {\n",
              "        text-align: right;\n",
              "    }\n",
              "</style>\n",
              "<table border=\"1\" class=\"dataframe\">\n",
              "  <thead>\n",
              "    <tr style=\"text-align: right;\">\n",
              "      <th></th>\n",
              "      <th>weight</th>\n",
              "      <th>display_size</th>\n",
              "      <th>battery</th>\n",
              "      <th>approx_price_EUR</th>\n",
              "      <th>ppi</th>\n",
              "      <th>depth</th>\n",
              "      <th>width</th>\n",
              "      <th>height</th>\n",
              "      <th>body_ratio</th>\n",
              "    </tr>\n",
              "  </thead>\n",
              "  <tbody>\n",
              "    <tr>\n",
              "      <th>weight</th>\n",
              "      <td>1.000000</td>\n",
              "      <td>0.817686</td>\n",
              "      <td>0.795563</td>\n",
              "      <td>0.530968</td>\n",
              "      <td>0.592177</td>\n",
              "      <td>-0.508333</td>\n",
              "      <td>0.807305</td>\n",
              "      <td>0.835915</td>\n",
              "      <td>0.743412</td>\n",
              "    </tr>\n",
              "    <tr>\n",
              "      <th>display_size</th>\n",
              "      <td>0.817686</td>\n",
              "      <td>1.000000</td>\n",
              "      <td>0.902305</td>\n",
              "      <td>0.509811</td>\n",
              "      <td>0.725654</td>\n",
              "      <td>-0.771210</td>\n",
              "      <td>0.880605</td>\n",
              "      <td>0.926047</td>\n",
              "      <td>0.939634</td>\n",
              "    </tr>\n",
              "    <tr>\n",
              "      <th>battery</th>\n",
              "      <td>0.795563</td>\n",
              "      <td>0.902305</td>\n",
              "      <td>1.000000</td>\n",
              "      <td>0.477934</td>\n",
              "      <td>0.676838</td>\n",
              "      <td>-0.750736</td>\n",
              "      <td>0.864408</td>\n",
              "      <td>0.886578</td>\n",
              "      <td>0.844770</td>\n",
              "    </tr>\n",
              "    <tr>\n",
              "      <th>approx_price_EUR</th>\n",
              "      <td>0.530968</td>\n",
              "      <td>0.509811</td>\n",
              "      <td>0.477934</td>\n",
              "      <td>1.000000</td>\n",
              "      <td>0.510953</td>\n",
              "      <td>-0.361797</td>\n",
              "      <td>0.437985</td>\n",
              "      <td>0.472992</td>\n",
              "      <td>0.534764</td>\n",
              "    </tr>\n",
              "    <tr>\n",
              "      <th>ppi</th>\n",
              "      <td>0.592177</td>\n",
              "      <td>0.725654</td>\n",
              "      <td>0.676838</td>\n",
              "      <td>0.510953</td>\n",
              "      <td>1.000000</td>\n",
              "      <td>-0.681370</td>\n",
              "      <td>0.638626</td>\n",
              "      <td>0.656265</td>\n",
              "      <td>0.794166</td>\n",
              "    </tr>\n",
              "    <tr>\n",
              "      <th>depth</th>\n",
              "      <td>-0.508333</td>\n",
              "      <td>-0.771210</td>\n",
              "      <td>-0.750736</td>\n",
              "      <td>-0.361797</td>\n",
              "      <td>-0.681370</td>\n",
              "      <td>1.000000</td>\n",
              "      <td>-0.765053</td>\n",
              "      <td>-0.769608</td>\n",
              "      <td>-0.789080</td>\n",
              "    </tr>\n",
              "    <tr>\n",
              "      <th>width</th>\n",
              "      <td>0.807305</td>\n",
              "      <td>0.880605</td>\n",
              "      <td>0.864408</td>\n",
              "      <td>0.437985</td>\n",
              "      <td>0.638626</td>\n",
              "      <td>-0.765053</td>\n",
              "      <td>1.000000</td>\n",
              "      <td>0.887348</td>\n",
              "      <td>0.794280</td>\n",
              "    </tr>\n",
              "    <tr>\n",
              "      <th>height</th>\n",
              "      <td>0.835915</td>\n",
              "      <td>0.926047</td>\n",
              "      <td>0.886578</td>\n",
              "      <td>0.472992</td>\n",
              "      <td>0.656265</td>\n",
              "      <td>-0.769608</td>\n",
              "      <td>0.887348</td>\n",
              "      <td>1.000000</td>\n",
              "      <td>0.848642</td>\n",
              "    </tr>\n",
              "    <tr>\n",
              "      <th>body_ratio</th>\n",
              "      <td>0.743412</td>\n",
              "      <td>0.939634</td>\n",
              "      <td>0.844770</td>\n",
              "      <td>0.534764</td>\n",
              "      <td>0.794166</td>\n",
              "      <td>-0.789080</td>\n",
              "      <td>0.794280</td>\n",
              "      <td>0.848642</td>\n",
              "      <td>1.000000</td>\n",
              "    </tr>\n",
              "  </tbody>\n",
              "</table>\n",
              "</div>"
            ],
            "text/plain": [
              "                    weight  display_size   battery  approx_price_EUR  \\\n",
              "weight            1.000000      0.817686  0.795563          0.530968   \n",
              "display_size      0.817686      1.000000  0.902305          0.509811   \n",
              "battery           0.795563      0.902305  1.000000          0.477934   \n",
              "approx_price_EUR  0.530968      0.509811  0.477934          1.000000   \n",
              "ppi               0.592177      0.725654  0.676838          0.510953   \n",
              "depth            -0.508333     -0.771210 -0.750736         -0.361797   \n",
              "width             0.807305      0.880605  0.864408          0.437985   \n",
              "height            0.835915      0.926047  0.886578          0.472992   \n",
              "body_ratio        0.743412      0.939634  0.844770          0.534764   \n",
              "\n",
              "                       ppi     depth     width    height  body_ratio  \n",
              "weight            0.592177 -0.508333  0.807305  0.835915    0.743412  \n",
              "display_size      0.725654 -0.771210  0.880605  0.926047    0.939634  \n",
              "battery           0.676838 -0.750736  0.864408  0.886578    0.844770  \n",
              "approx_price_EUR  0.510953 -0.361797  0.437985  0.472992    0.534764  \n",
              "ppi               1.000000 -0.681370  0.638626  0.656265    0.794166  \n",
              "depth            -0.681370  1.000000 -0.765053 -0.769608   -0.789080  \n",
              "width             0.638626 -0.765053  1.000000  0.887348    0.794280  \n",
              "height            0.656265 -0.769608  0.887348  1.000000    0.848642  \n",
              "body_ratio        0.794166 -0.789080  0.794280  0.848642    1.000000  "
            ]
          },
          "metadata": {
            "tags": []
          },
          "execution_count": 51
        }
      ]
    },
    {
      "metadata": {
        "id": "ZEZ08e2Vo0u9",
        "colab_type": "code",
        "outputId": "17897f21-7d6e-4cc6-dbea-8424b7b6c287",
        "colab": {
          "base_uri": "https://localhost:8080/",
          "height": 300
        }
      },
      "cell_type": "code",
      "source": [
        "phones.plot.scatter(x='width',y='height')"
      ],
      "execution_count": 52,
      "outputs": [
        {
          "output_type": "execute_result",
          "data": {
            "text/plain": [
              "<matplotlib.axes._subplots.AxesSubplot at 0x7fa61c0f92b0>"
            ]
          },
          "metadata": {
            "tags": []
          },
          "execution_count": 52
        },
        {
          "output_type": "display_data",
          "data": {
            "image/png": "[encoded data removed]",
            "text/plain": [
              "<Figure size 432x288 with 1 Axes>"
            ]
          },
          "metadata": {
            "tags": []
          }
        }
      ]
    },
    {
      "metadata": {
        "id": "d6X2aCXzo8Vg",
        "colab_type": "code",
        "outputId": "cdfcd3d1-d2c3-4e69-f804-91f8e5d52dca",
        "colab": {
          "base_uri": "https://localhost:8080/",
          "height": 300
        }
      },
      "cell_type": "code",
      "source": [
        "phones.plot.scatter(x='width',y='display_size')"
      ],
      "execution_count": 53,
      "outputs": [
        {
          "output_type": "execute_result",
          "data": {
            "text/plain": [
              "<matplotlib.axes._subplots.AxesSubplot at 0x7fa61badea58>"
            ]
          },
          "metadata": {
            "tags": []
          },
          "execution_count": 53
        },
        {
          "output_type": "display_data",
          "data": {
            "image/png": "[encoded data removed]",
            "text/plain": [
              "<Figure size 432x288 with 1 Axes>"
            ]
          },
          "metadata": {
            "tags": []
          }
        }
      ]
    },
    {
      "metadata": {
        "id": "q6YMa541pVQv",
        "colab_type": "code",
        "outputId": "86edde46-da1b-49ac-877d-ecae2f370792",
        "colab": {
          "base_uri": "https://localhost:8080/",
          "height": 301
        }
      },
      "cell_type": "code",
      "source": [
        "phones.plot.scatter(x='body_ratio',y='display_size')"
      ],
      "execution_count": 54,
      "outputs": [
        {
          "output_type": "execute_result",
          "data": {
            "text/plain": [
              "<matplotlib.axes._subplots.AxesSubplot at 0x7fa61bb67438>"
            ]
          },
          "metadata": {
            "tags": []
          },
          "execution_count": 54
        },
        {
          "output_type": "display_data",
          "data": {
            "image/png": "[encoded data removed]",
            "text/plain": [
              "<Figure size 432x288 with 1 Axes>"
            ]
          },
          "metadata": {
            "tags": []
          }
        }
      ]
    },
    {
      "metadata": {
        "id": "hYeiOQVKtNLH",
        "colab_type": "code",
        "outputId": "6d1fa32e-0682-4433-aaff-5617ea2e959a",
        "colab": {
          "base_uri": "https://localhost:8080/",
          "height": 51
        }
      },
      "cell_type": "code",
      "source": [
        "from numpy import log\n",
        "phones['width'] = log(phones['width'])\n",
        "phones['height'] = log(phones['height'])\n",
        "phones['depth'] = log(phones['depth'])"
      ],
      "execution_count": 55,
      "outputs": [
        {
          "output_type": "stream",
          "text": [
            "/usr/local/lib/python3.6/dist-packages/ipykernel_launcher.py:4: RuntimeWarning: divide by zero encountered in log\n",
            "  after removing the cwd from sys.path.\n"
          ],
          "name": "stderr"
        }
      ]
    },
    {
      "metadata": {
        "id": "_bjpdBqsHcwc",
        "colab_type": "code",
        "outputId": "ee66a269-a890-4eac-ee2b-ef4e6fd25ebd",
        "colab": {
          "base_uri": "https://localhost:8080/",
          "height": 286
        }
      },
      "cell_type": "code",
      "source": [
        "phones[['width', 'height', 'depth']].plot(kind='box')"
      ],
      "execution_count": 0,
      "outputs": [
        {
          "output_type": "execute_result",
          "data": {
            "text/plain": [
              "<matplotlib.axes._subplots.AxesSubplot at 0x7f87128c4da0>"
            ]
          },
          "metadata": {
            "tags": []
          },
          "execution_count": 113
        },
        {
          "output_type": "display_data",
          "data": {
            "image/png": "[encoded data removed]",
            "text/plain": [
              "<Figure size 432x288 with 1 Axes>"
            ]
          },
          "metadata": {
            "tags": []
          }
        }
      ]
    },
    {
      "metadata": {
        "id": "kaVjBcdVuL-x",
        "colab_type": "code",
        "outputId": "58444d4c-898c-44d6-c42d-6b9bebb6dbcb",
        "colab": {
          "base_uri": "https://localhost:8080/",
          "height": 315
        }
      },
      "cell_type": "code",
      "source": [
        "phones[['width']].hist()"
      ],
      "execution_count": 0,
      "outputs": [
        {
          "output_type": "execute_result",
          "data": {
            "text/plain": [
              "array([[<matplotlib.axes._subplots.AxesSubplot object at 0x7f873f326320>]],\n",
              "      dtype=object)"
            ]
          },
          "metadata": {
            "tags": []
          },
          "execution_count": 114
        },
        {
          "output_type": "display_data",
          "data": {
            "image/png": "[encoded data removed]",
            "text/plain": [
              "<Figure size 432x288 with 1 Axes>"
            ]
          },
          "metadata": {
            "tags": []
          }
        }
      ]
    },
    {
      "metadata": {
        "id": "z5JdvwGx1SNx",
        "colab_type": "code",
        "outputId": "0ba25b13-de51-47fe-e441-7d20fcd161c3",
        "colab": {
          "base_uri": "https://localhost:8080/",
          "height": 332
        }
      },
      "cell_type": "code",
      "source": [
        "phones[['width', 'height']].hist()"
      ],
      "execution_count": 0,
      "outputs": [
        {
          "output_type": "execute_result",
          "data": {
            "text/plain": [
              "array([[<matplotlib.axes._subplots.AxesSubplot object at 0x7f873f2ff400>,\n",
              "        <matplotlib.axes._subplots.AxesSubplot object at 0x7f8713fed0b8>]],\n",
              "      dtype=object)"
            ]
          },
          "metadata": {
            "tags": []
          },
          "execution_count": 115
        },
        {
          "output_type": "display_data",
          "data": {
            "image/png": "[encoded data removed]",
            "text/plain": [
              "<Figure size 432x288 with 2 Axes>"
            ]
          },
          "metadata": {
            "tags": []
          }
        }
      ]
    },
    {
      "metadata": {
        "id": "W8YE5tSD1WfN",
        "colab_type": "code",
        "outputId": "7697a06c-a20a-479f-ed37-dbdbe5074f87",
        "colab": {
          "base_uri": "https://localhost:8080/",
          "height": 315
        }
      },
      "cell_type": "code",
      "source": [
        "phones[['display_size']].hist()"
      ],
      "execution_count": 0,
      "outputs": [
        {
          "output_type": "execute_result",
          "data": {
            "text/plain": [
              "array([[<matplotlib.axes._subplots.AxesSubplot object at 0x7f8712c7eeb8>]],\n",
              "      dtype=object)"
            ]
          },
          "metadata": {
            "tags": []
          },
          "execution_count": 116
        },
        {
          "output_type": "display_data",
          "data": {
            "image/png": "[encoded data removed]",
            "text/plain": [
              "<Figure size 432x288 with 1 Axes>"
            ]
          },
          "metadata": {
            "tags": []
          }
        }
      ]
    },
    {
      "metadata": {
        "id": "Anppnf_LbIep",
        "colab_type": "code",
        "outputId": "bcf48d14-ecce-4029-84ba-8a33ce719823",
        "colab": {
          "base_uri": "https://localhost:8080/",
          "height": 320
        }
      },
      "cell_type": "code",
      "source": [
        "#### TESTES DE HIPÓTESES\n",
        "\n",
        "#Existe diferença entre tablets e smartphones em relação a pixel por polegada e tamanho de tela?\n",
        "\n",
        "from scipy import stats\n",
        "import matplotlib.pyplot as plt\n",
        "import seaborn as sns\n",
        "\n",
        "stats.mannwhitneyu(phones[phones['type'] == 'Tablet']['ppi'],phones[phones['type'] == 'Smartphones']['ppi'])\n",
        "\n",
        "data1 = phones[phones['type'] == 'Tablet']['ppi']\n",
        "data2 = phones[phones['type'] == 'Smartphone']['ppi']\n",
        "sns.boxplot(data=[data1, data2])"
      ],
      "execution_count": 0,
      "outputs": [
        {
          "output_type": "stream",
          "text": [
            "/usr/local/lib/python3.6/dist-packages/scipy/stats/stats.py:5001: RuntimeWarning: divide by zero encountered in double_scalars\n",
            "  z = (bigu - meanrank) / sd\n"
          ],
          "name": "stderr"
        },
        {
          "output_type": "execute_result",
          "data": {
            "text/plain": [
              "<matplotlib.axes._subplots.AxesSubplot at 0x7f8712cf3470>"
            ]
          },
          "metadata": {
            "tags": []
          },
          "execution_count": 117
        },
        {
          "output_type": "display_data",
          "data": {
            "image/png": "[encoded data removed]",
            "text/plain": [
              "<Figure size 432x288 with 1 Axes>"
            ]
          },
          "metadata": {
            "tags": []
          }
        }
      ]
    },
    {
      "metadata": {
        "id": "4FQzWdhLbOeU",
        "colab_type": "code",
        "outputId": "94ef73ca-0cfb-4c51-b959-3504e820b924",
        "colab": {
          "base_uri": "https://localhost:8080/",
          "height": 320
        }
      },
      "cell_type": "code",
      "source": [
        "#### TESTES DE HIPÓTESES\n",
        "\n",
        "stats.mannwhitneyu(phones[phones['type'] == 'Tablet']['ppi'],phones[phones['type'] == 'Smartphones']['ppi'])\n",
        "\n",
        "data1 = phones[phones['type'] == 'Tablet']['display_size']\n",
        "data2 = phones[phones['type'] == 'Smartphone']['display_size']\n",
        "sns.boxplot(data=[data1, data2])"
      ],
      "execution_count": 0,
      "outputs": [
        {
          "output_type": "stream",
          "text": [
            "/usr/local/lib/python3.6/dist-packages/scipy/stats/stats.py:5001: RuntimeWarning: divide by zero encountered in double_scalars\n",
            "  z = (bigu - meanrank) / sd\n"
          ],
          "name": "stderr"
        },
        {
          "output_type": "execute_result",
          "data": {
            "text/plain": [
              "<matplotlib.axes._subplots.AxesSubplot at 0x7f8712b642b0>"
            ]
          },
          "metadata": {
            "tags": []
          },
          "execution_count": 118
        },
        {
          "output_type": "display_data",
          "data": {
            "image/png": "[encoded data removed]",
            "text/plain": [
              "<Figure size 432x288 with 1 Axes>"
            ]
          },
          "metadata": {
            "tags": []
          }
        }
      ]
    },
    {
      "metadata": {
        "id": "dNgJevNNbPFq",
        "colab_type": "code",
        "outputId": "cc641089-756c-43ea-f2b9-d384446870bd",
        "colab": {
          "base_uri": "https://localhost:8080/",
          "height": 320
        }
      },
      "cell_type": "code",
      "source": [
        "#### TESTES DE HIPÓTESES\n",
        "\n",
        "#Quanto maior a tela maior a bateria?\n",
        "\n",
        "stats.mannwhitneyu(phones[phones['type'] == 'Tablet']['ppi'],phones[phones['type'] == 'Smartphones']['ppi'])\n",
        "\n",
        "data1 = phones[phones['type'] == 'Tablet']['battery']\n",
        "data2 = phones[phones['type'] == 'Smartphone']['battery']\n",
        "sns.boxplot(data=[data1, data2])"
      ],
      "execution_count": 0,
      "outputs": [
        {
          "output_type": "stream",
          "text": [
            "/usr/local/lib/python3.6/dist-packages/scipy/stats/stats.py:5001: RuntimeWarning: divide by zero encountered in double_scalars\n",
            "  z = (bigu - meanrank) / sd\n"
          ],
          "name": "stderr"
        },
        {
          "output_type": "execute_result",
          "data": {
            "text/plain": [
              "<matplotlib.axes._subplots.AxesSubplot at 0x7f8712cf39e8>"
            ]
          },
          "metadata": {
            "tags": []
          },
          "execution_count": 119
        },
        {
          "output_type": "display_data",
          "data": {
            "image/png": "[encoded data removed]",
            "text/plain": [
              "<Figure size 432x288 with 1 Axes>"
            ]
          },
          "metadata": {
            "tags": []
          }
        }
      ]
    },
    {
      "metadata": {
        "id": "ONZCoQN9bQ0f",
        "colab_type": "code",
        "outputId": "7e7c7adf-0961-488c-b0ed-6e201fe60867",
        "colab": {
          "base_uri": "https://localhost:8080/",
          "height": 283
        }
      },
      "cell_type": "code",
      "source": [
        "ax = sns.barplot(x=\"type\", y=\"weight\", data=phones)"
      ],
      "execution_count": 0,
      "outputs": [
        {
          "output_type": "display_data",
          "data": {
            "image/png": "[encoded data removed]",
            "text/plain": [
              "<Figure size 432x288 with 1 Axes>"
            ]
          },
          "metadata": {
            "tags": []
          }
        }
      ]
    },
    {
      "metadata": {
        "id": "UT1lnghnbV5E",
        "colab_type": "code",
        "outputId": "c675a8bf-3eb4-4f07-ecd4-b2eeda7dfb1e",
        "colab": {
          "base_uri": "https://localhost:8080/",
          "height": 284
        }
      },
      "cell_type": "code",
      "source": [
        "ax = sns.barplot(x=\"stereo_speaker\", y=\"weight\", data=phones)"
      ],
      "execution_count": 0,
      "outputs": [
        {
          "output_type": "display_data",
          "data": {
            "image/png": "[encoded data removed]",
            "text/plain": [
              "<Figure size 432x288 with 1 Axes>"
            ]
          },
          "metadata": {
            "tags": []
          }
        }
      ]
    },
    {
      "metadata": {
        "id": "4IHjiGiNbXfb",
        "colab_type": "code",
        "outputId": "8343b778-d03a-4ae4-b0c3-49dc9cf2ab3d",
        "colab": {
          "base_uri": "https://localhost:8080/",
          "height": 283
        }
      },
      "cell_type": "code",
      "source": [
        "ax = sns.barplot(x=\"fingerprint\", y=\"depth\", data=phones)"
      ],
      "execution_count": 0,
      "outputs": [
        {
          "output_type": "display_data",
          "data": {
            "image/png": "[encoded data removed]",
            "text/plain": [
              "<Figure size 432x288 with 1 Axes>"
            ]
          },
          "metadata": {
            "tags": []
          }
        }
      ]
    },
    {
      "metadata": {
        "id": "6WcEIZlWc2pc",
        "colab_type": "code",
        "colab": {}
      },
      "cell_type": "code",
      "source": [
        ""
      ],
      "execution_count": 0,
      "outputs": []
    }
  ]
}